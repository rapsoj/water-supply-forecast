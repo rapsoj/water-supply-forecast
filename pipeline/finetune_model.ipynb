{
 "cells": [
  {
   "cell_type": "markdown",
   "source": [
    "Imports:"
   ],
   "metadata": {
    "collapsed": false
   }
  },
  {
   "cell_type": "code",
   "execution_count": null,
   "outputs": [],
   "source": [
    "import copy\n",
    "import os\n",
    "import pickle\n",
    "\n",
    "import numpy as np\n",
    "import pandas as pd\n",
    "from torch import optim\n",
    "from torch.utils.data import DataLoader\n",
    "\n",
    "from benchmark.benchmark_results import cache_preds, generate_submission_file, cache_merged_submission_file,\n",
    "    benchmark_results\n",
    "from consts import CORE_SITES, JULY\n",
    "from models.fit_to_data import ensemble_models, Ensemble_Type\n",
    "from models.fitters import LSTMModel, lstm_fitter, StreamflowModel, lstm_feat_adapter\n",
    "from models.lstm_utils import HypParams, load_checkpoint, features2seqs, pad_collate_fn, train_lstm"
   ],
   "metadata": {
    "collapsed": false
   }
  },
  {
   "cell_type": "markdown",
   "source": [
    "Get model and relevant data:"
   ],
   "metadata": {
    "collapsed": false
   }
  },
  {
   "cell_type": "code",
   "execution_count": null,
   "outputs": [],
   "source": [],
   "metadata": {
    "collapsed": false
   }
  },
  {
   "cell_type": "code",
   "execution_count": null,
   "outputs": [],
   "source": [
    "hyperparams = NotImplemented\n",
    "lstm = LSTMModel(input_size=n_feats)\n",
    "optimizer = optim.Adam(lstm.parameters(), lr=hyperparams.lr)\n",
    "scheduler = optim.lr_scheduler.StepLR(optimizer, step_size=hyperparams.lr_step_size, gamma=hyperparams.lr_gamma)"
   ],
   "metadata": {
    "collapsed": false
   }
  },
  {
   "cell_type": "code",
   "execution_count": null,
   "outputs": [],
   "source": [
    "model_path = os.path.join('..', 'outputs', 'combined_set_lstm', NotImplemented)\n",
    "load_checkpoint(lstm, optimizer, scheduler, model_path)"
   ],
   "metadata": {
    "collapsed": false
   }
  },
  {
   "cell_type": "markdown",
   "source": [
    "Finetune on every site by itself:"
   ],
   "metadata": {
    "collapsed": false
   }
  },
  {
   "cell_type": "code",
   "execution_count": null,
   "outputs": [],
   "source": [
    "finetuning_hyperparams = NotImplemented\n",
    "site_ids = NotImplemented"
   ],
   "metadata": {
    "collapsed": false
   }
  },
  {
   "cell_type": "code",
   "execution_count": null,
   "outputs": [],
   "source": [
    "finetuned_models = {}\n",
    "for site_id in site_ids:\n",
    "    site_dloader = NotImplemented\n",
    "\n",
    "    site_lstm = copy.deepcopy(lstm)\n",
    "    site_optimizer = optim.Adam(site_lstm.parameters(), lr=finetuning_hyperparams.lr)\n",
    "    site_scheduler = optim.lr_scheduler.StepLR(site_optimizer, step_size=finetuning_hyperparams.lr_step_size,\n",
    "                                               gamma=finetuning_hyperparams.lr_gamma)\n",
    "    site_lstm = train_lstm(site_dloader, None, site_lstm, site_optimizer, site_scheduler, finetuning_hyperparams,\n",
    "                           site_id)\n",
    "    finetuned_models[site_id] = StreamflowModel(site_lstm, adapter=lstm_feat_adapter)\n"
   ],
   "metadata": {
    "collapsed": false
   }
  },
  {
   "cell_type": "markdown",
   "source": [
    "Save resulting models:"
   ],
   "metadata": {
    "collapsed": false
   }
  },
  {
   "cell_type": "code",
   "execution_count": null,
   "outputs": [],
   "source": [
    "models_path = NotImplemented"
   ],
   "metadata": {
    "collapsed": false
   }
  },
  {
   "cell_type": "code",
   "execution_count": null,
   "metadata": {
    "collapsed": true
   },
   "outputs": [],
   "source": [
    "for site_id, ft_model in finetuned_models.items():\n",
    "    model_path = os.path.join(models_path, f'{site_id}.pth.tar')"
   ]
  },
  {
   "cell_type": "markdown",
   "source": [
    "Generate submission file:"
   ],
   "metadata": {
    "collapsed": false
   }
  },
  {
   "cell_type": "code",
   "execution_count": null,
   "outputs": [],
   "source": [],
   "metadata": {
    "collapsed": false
   }
  }
 ],
 "metadata": {
  "kernelspec": {
   "display_name": "Python 3",
   "language": "python",
   "name": "python3"
  },
  "language_info": {
   "codemirror_mode": {
    "name": "ipython",
    "version": 2
   },
   "file_extension": ".py",
   "mimetype": "text/x-python",
   "name": "python",
   "nbconvert_exporter": "python",
   "pygments_lexer": "ipython2",
   "version": "2.7.6"
  }
 },
 "nbformat": 4,
 "nbformat_minor": 0
}
