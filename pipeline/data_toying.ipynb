{
 "cells": [
  {
   "cell_type": "code",
   "execution_count": 1,
   "metadata": {},
   "outputs": [
    {
     "name": "stderr",
     "output_type": "stream",
     "text": [
      "/opt/homebrew/lib/python3.9/site-packages/scipy/__init__.py:146: UserWarning: A NumPy version >=1.17.3 and <1.25.0 is required for this version of SciPy (detected version 1.26.1\n",
      "  warnings.warn(f\"A NumPy version >={np_minversion} and <{np_maxversion}\"\n"
     ]
    }
   ],
   "source": [
    "import pandas as pd\n",
    "import os\n",
    "import numpy as np\n",
    "import datetime as dt\n",
    "from scipy.interpolate import interp1d\n",
    "\n",
    "path = os.getcwd()"
   ]
  },
  {
   "cell_type": "code",
   "execution_count": 24,
   "metadata": {},
   "outputs": [],
   "source": [
    "col2dtype = {\"mjo20E\": float, \"mjo70E\": float, \"mjo80E\": float, \"mjo100E\": float, \"mjo120E\": float,\n",
    "             \"mjo140E\": float, \"mjo160E\": float, \"mjo120W\": float, \"mjo40W\": float, \"mjo10W\": float,\n",
    "             \"year\": int, \"month\": int, \"day\": float, \"ninoNINO1+2\": float, \"ninoANOM\": float,\n",
    "             \"ninoNINO3\": float, \"ninoANOM.1\": float, \"ninoNINO4\": float, \"ninoANOM.2\": float,\n",
    "             \"ninoNINO3.4\": float, \"ninoANOM.3\": float, \"oniTOTAL\": float,\n",
    "             \"oniANOM\": float, \"pdo\": float, \"pna\": float, \"soi_anom\": float, \"soi_sd\": float,\n",
    "             \"forecast_year\": float, \"volume\": float, \"mean_gws_inst\": float, \"mean_rtzsm_inst\": float,\n",
    "             \"mean_sfsm_inst\": float, \"station\": float, \"PREC_DAILY\": float, \"WTEQ_DAILY\": float, \"TAVG_DAILY\": float,\n",
    "             \"TMAX_DAILY\": float, \"TMIN_DAILY\": float, \"SNWD_DAILY\": float}\n",
    "data = pd.read_csv(os.path.join(\"..\", \"pipeline\", \"transformed_vars.csv\"),\n",
    "                   dtype=col2dtype)"
   ]
  },
  {
   "cell_type": "code",
   "execution_count": 25,
   "metadata": {},
   "outputs": [],
   "source": [
    "site_id_str = 'site_id_'\n",
    "site_id_cols = [col for col in data.columns if 'site_id' in col]\n",
    "data['site_id'] = data[site_id_cols] \\\n",
    "    .idxmax(axis='columns') \\\n",
    "    .apply(lambda x: x[x.find(site_id_str) + len(site_id_str):])\n",
    "data = data.drop(columns=site_id_cols)"
   ]
  },
  {
   "cell_type": "code",
   "execution_count": 35,
   "metadata": {},
   "outputs": [
    {
     "name": "stderr",
     "output_type": "stream",
     "text": [
      "/var/folders/nh/8k546jq14l5gnwkjgxvch8180000gn/T/ipykernel_3699/3238780978.py:24: SettingWithCopyWarning: \n",
      "A value is trying to be set on a copy of a slice from a DataFrame\n",
      "\n",
      "See the caveats in the documentation: https://pandas.pydata.org/pandas-docs/stable/user_guide/indexing.html#returning-a-view-versus-a-copy\n",
      "  data.month[data.month == -1]=data.oni_month[data.month == -1]\n"
     ]
    }
   ],
   "source": [
    "# Create integer dates to work with\n",
    "data.day = data.day.apply(lambda x: 15*(x == -1))\n",
    "\n",
    "# Reformulate ONIXXX from one hot encoding to date\n",
    "oni_cols = [col for col in data.columns if 'oniSEAS' in col]\n",
    "month_conversion_dictionary = {\n",
    "'oniSEAS_AMJ': 5,\n",
    "'oniSEAS_ASO': 9,\n",
    "'oniSEAS_DJF': 1,\n",
    "'oniSEAS_FMA': 3,\n",
    "'oniSEAS_JAS': 8,\n",
    "'oniSEAS_JFM': 2,\n",
    "'oniSEAS_JJA': 7,\n",
    "'oniSEAS_MAM': 4,\n",
    "'oniSEAS_MJJ': 6,\n",
    "'oniSEAS_NDJ': 12,\n",
    "'oniSEAS_OND': 11,\n",
    "'oniSEAS_SON': 10\n",
    "}\n",
    "data['oni_month'] = data[oni_cols] \\\n",
    "    .idxmax(axis='columns') \\\n",
    "    .apply(lambda x: month_conversion_dictionary[x])\n",
    "\n",
    "data.month[data.month == -1]=data.oni_month[data.month == -1]\n",
    "print((data.month > 0).all())\n",
    "print((data.date > 0).all())\n",
    "\n"
   ]
  },
  {
   "cell_type": "code",
   "execution_count": 36,
   "metadata": {},
   "outputs": [
    {
     "name": "stderr",
     "output_type": "stream",
     "text": [
      "/var/folders/nh/8k546jq14l5gnwkjgxvch8180000gn/T/ipykernel_3699/297992395.py:2: FutureWarning: DataFrame.applymap has been deprecated. Use DataFrame.map instead.\n",
      "  data[\"date\"] = pd.to_datetime(data[date_cols].applymap(int))\n"
     ]
    },
    {
     "ename": "ValueError",
     "evalue": "cannot assemble the datetimes: time data \"19780100\" doesn't match format \"%Y%m%d\", at position 0. You might want to try:\n    - passing `format` if your strings have a consistent format;\n    - passing `format='ISO8601'` if your strings are all ISO8601 but not necessarily in exactly the same format;\n    - passing `format='mixed'`, and the format will be inferred for each element individually. You might want to use `dayfirst` alongside this.",
     "output_type": "error",
     "traceback": [
      "\u001b[0;31m---------------------------------------------------------------------------\u001b[0m",
      "\u001b[0;31mValueError\u001b[0m                                Traceback (most recent call last)",
      "File \u001b[0;32m/opt/homebrew/lib/python3.9/site-packages/pandas/core/tools/datetimes.py:1259\u001b[0m, in \u001b[0;36m_assemble_from_unit_mappings\u001b[0;34m(arg, errors, utc)\u001b[0m\n\u001b[1;32m   1258\u001b[0m \u001b[39mtry\u001b[39;00m:\n\u001b[0;32m-> 1259\u001b[0m     values \u001b[39m=\u001b[39m to_datetime(values, \u001b[39mformat\u001b[39;49m\u001b[39m=\u001b[39;49m\u001b[39m\"\u001b[39;49m\u001b[39m%\u001b[39;49m\u001b[39mY\u001b[39;49m\u001b[39m%\u001b[39;49m\u001b[39mm\u001b[39;49m\u001b[39m%d\u001b[39;49;00m\u001b[39m\"\u001b[39;49m, errors\u001b[39m=\u001b[39;49merrors, utc\u001b[39m=\u001b[39;49mutc)\n\u001b[1;32m   1260\u001b[0m \u001b[39mexcept\u001b[39;00m (\u001b[39mTypeError\u001b[39;00m, \u001b[39mValueError\u001b[39;00m) \u001b[39mas\u001b[39;00m err:\n",
      "File \u001b[0;32m/opt/homebrew/lib/python3.9/site-packages/pandas/core/tools/datetimes.py:1108\u001b[0m, in \u001b[0;36mto_datetime\u001b[0;34m(arg, errors, dayfirst, yearfirst, utc, format, exact, unit, infer_datetime_format, origin, cache)\u001b[0m\n\u001b[1;32m   1107\u001b[0m \u001b[39melif\u001b[39;00m \u001b[39misinstance\u001b[39m(arg, ABCSeries):\n\u001b[0;32m-> 1108\u001b[0m     cache_array \u001b[39m=\u001b[39m _maybe_cache(arg, \u001b[39mformat\u001b[39;49m, cache, convert_listlike)\n\u001b[1;32m   1109\u001b[0m     \u001b[39mif\u001b[39;00m \u001b[39mnot\u001b[39;00m cache_array\u001b[39m.\u001b[39mempty:\n",
      "File \u001b[0;32m/opt/homebrew/lib/python3.9/site-packages/pandas/core/tools/datetimes.py:254\u001b[0m, in \u001b[0;36m_maybe_cache\u001b[0;34m(arg, format, cache, convert_listlike)\u001b[0m\n\u001b[1;32m    253\u001b[0m \u001b[39mif\u001b[39;00m \u001b[39mlen\u001b[39m(unique_dates) \u001b[39m<\u001b[39m \u001b[39mlen\u001b[39m(arg):\n\u001b[0;32m--> 254\u001b[0m     cache_dates \u001b[39m=\u001b[39m convert_listlike(unique_dates, \u001b[39mformat\u001b[39;49m)\n\u001b[1;32m    255\u001b[0m     \u001b[39m# GH#45319\u001b[39;00m\n",
      "File \u001b[0;32m/opt/homebrew/lib/python3.9/site-packages/pandas/core/tools/datetimes.py:488\u001b[0m, in \u001b[0;36m_convert_listlike_datetimes\u001b[0;34m(arg, format, name, utc, unit, errors, dayfirst, yearfirst, exact)\u001b[0m\n\u001b[1;32m    487\u001b[0m \u001b[39mif\u001b[39;00m \u001b[39mformat\u001b[39m \u001b[39mis\u001b[39;00m \u001b[39mnot\u001b[39;00m \u001b[39mNone\u001b[39;00m \u001b[39mand\u001b[39;00m \u001b[39mformat\u001b[39m \u001b[39m!=\u001b[39m \u001b[39m\"\u001b[39m\u001b[39mmixed\u001b[39m\u001b[39m\"\u001b[39m:\n\u001b[0;32m--> 488\u001b[0m     \u001b[39mreturn\u001b[39;00m _array_strptime_with_fallback(arg, name, utc, \u001b[39mformat\u001b[39;49m, exact, errors)\n\u001b[1;32m    490\u001b[0m result, tz_parsed \u001b[39m=\u001b[39m objects_to_datetime64ns(\n\u001b[1;32m    491\u001b[0m     arg,\n\u001b[1;32m    492\u001b[0m     dayfirst\u001b[39m=\u001b[39mdayfirst,\n\u001b[0;32m   (...)\u001b[0m\n\u001b[1;32m    496\u001b[0m     allow_object\u001b[39m=\u001b[39m\u001b[39mTrue\u001b[39;00m,\n\u001b[1;32m    497\u001b[0m )\n",
      "File \u001b[0;32m/opt/homebrew/lib/python3.9/site-packages/pandas/core/tools/datetimes.py:519\u001b[0m, in \u001b[0;36m_array_strptime_with_fallback\u001b[0;34m(arg, name, utc, fmt, exact, errors)\u001b[0m\n\u001b[1;32m    516\u001b[0m \u001b[39m\u001b[39m\u001b[39m\"\"\"\u001b[39;00m\n\u001b[1;32m    517\u001b[0m \u001b[39mCall array_strptime, with fallback behavior depending on 'errors'.\u001b[39;00m\n\u001b[1;32m    518\u001b[0m \u001b[39m\"\"\"\u001b[39;00m\n\u001b[0;32m--> 519\u001b[0m result, timezones \u001b[39m=\u001b[39m array_strptime(arg, fmt, exact\u001b[39m=\u001b[39;49mexact, errors\u001b[39m=\u001b[39;49merrors, utc\u001b[39m=\u001b[39;49mutc)\n\u001b[1;32m    520\u001b[0m \u001b[39mif\u001b[39;00m \u001b[39many\u001b[39m(tz \u001b[39mis\u001b[39;00m \u001b[39mnot\u001b[39;00m \u001b[39mNone\u001b[39;00m \u001b[39mfor\u001b[39;00m tz \u001b[39min\u001b[39;00m timezones):\n",
      "File \u001b[0;32mstrptime.pyx:534\u001b[0m, in \u001b[0;36mpandas._libs.tslibs.strptime.array_strptime\u001b[0;34m()\u001b[0m\n",
      "File \u001b[0;32mstrptime.pyx:355\u001b[0m, in \u001b[0;36mpandas._libs.tslibs.strptime.array_strptime\u001b[0;34m()\u001b[0m\n",
      "\u001b[0;31mValueError\u001b[0m: time data \"19780100\" doesn't match format \"%Y%m%d\", at position 0. You might want to try:\n    - passing `format` if your strings have a consistent format;\n    - passing `format='ISO8601'` if your strings are all ISO8601 but not necessarily in exactly the same format;\n    - passing `format='mixed'`, and the format will be inferred for each element individually. You might want to use `dayfirst` alongside this.",
      "\nThe above exception was the direct cause of the following exception:\n",
      "\u001b[0;31mValueError\u001b[0m                                Traceback (most recent call last)",
      "\u001b[1;32m/Users/emilryd/programming/water-supply-forecast/pipeline/data_toying.ipynb Cell 5\u001b[0m line \u001b[0;36m2\n\u001b[1;32m      <a href='vscode-notebook-cell:/Users/emilryd/programming/water-supply-forecast/pipeline/data_toying.ipynb#X10sZmlsZQ%3D%3D?line=0'>1</a>\u001b[0m date_cols \u001b[39m=\u001b[39m [\u001b[39m'\u001b[39m\u001b[39myear\u001b[39m\u001b[39m'\u001b[39m, \u001b[39m'\u001b[39m\u001b[39mmonth\u001b[39m\u001b[39m'\u001b[39m, \u001b[39m'\u001b[39m\u001b[39mday\u001b[39m\u001b[39m'\u001b[39m]\n\u001b[0;32m----> <a href='vscode-notebook-cell:/Users/emilryd/programming/water-supply-forecast/pipeline/data_toying.ipynb#X10sZmlsZQ%3D%3D?line=1'>2</a>\u001b[0m data[\u001b[39m\"\u001b[39m\u001b[39mdate\u001b[39m\u001b[39m\"\u001b[39m] \u001b[39m=\u001b[39m pd\u001b[39m.\u001b[39;49mto_datetime(data[date_cols]\u001b[39m.\u001b[39;49mapplymap(\u001b[39mint\u001b[39;49m))\n\u001b[1;32m      <a href='vscode-notebook-cell:/Users/emilryd/programming/water-supply-forecast/pipeline/data_toying.ipynb#X10sZmlsZQ%3D%3D?line=2'>3</a>\u001b[0m data \u001b[39m=\u001b[39m data\u001b[39m.\u001b[39msort_values(\u001b[39m'\u001b[39m\u001b[39mdate\u001b[39m\u001b[39m'\u001b[39m)\n",
      "File \u001b[0;32m/opt/homebrew/lib/python3.9/site-packages/pandas/core/tools/datetimes.py:1115\u001b[0m, in \u001b[0;36mto_datetime\u001b[0;34m(arg, errors, dayfirst, yearfirst, utc, format, exact, unit, infer_datetime_format, origin, cache)\u001b[0m\n\u001b[1;32m   1113\u001b[0m         result \u001b[39m=\u001b[39m arg\u001b[39m.\u001b[39m_constructor(values, index\u001b[39m=\u001b[39marg\u001b[39m.\u001b[39mindex, name\u001b[39m=\u001b[39marg\u001b[39m.\u001b[39mname)\n\u001b[1;32m   1114\u001b[0m \u001b[39melif\u001b[39;00m \u001b[39misinstance\u001b[39m(arg, (ABCDataFrame, abc\u001b[39m.\u001b[39mMutableMapping)):\n\u001b[0;32m-> 1115\u001b[0m     result \u001b[39m=\u001b[39m _assemble_from_unit_mappings(arg, errors, utc)\n\u001b[1;32m   1116\u001b[0m \u001b[39melif\u001b[39;00m \u001b[39misinstance\u001b[39m(arg, Index):\n\u001b[1;32m   1117\u001b[0m     cache_array \u001b[39m=\u001b[39m _maybe_cache(arg, \u001b[39mformat\u001b[39m, cache, convert_listlike)\n",
      "File \u001b[0;32m/opt/homebrew/lib/python3.9/site-packages/pandas/core/tools/datetimes.py:1261\u001b[0m, in \u001b[0;36m_assemble_from_unit_mappings\u001b[0;34m(arg, errors, utc)\u001b[0m\n\u001b[1;32m   1259\u001b[0m     values \u001b[39m=\u001b[39m to_datetime(values, \u001b[39mformat\u001b[39m\u001b[39m=\u001b[39m\u001b[39m\"\u001b[39m\u001b[39m%\u001b[39m\u001b[39mY\u001b[39m\u001b[39m%\u001b[39m\u001b[39mm\u001b[39m\u001b[39m%d\u001b[39;00m\u001b[39m\"\u001b[39m, errors\u001b[39m=\u001b[39merrors, utc\u001b[39m=\u001b[39mutc)\n\u001b[1;32m   1260\u001b[0m \u001b[39mexcept\u001b[39;00m (\u001b[39mTypeError\u001b[39;00m, \u001b[39mValueError\u001b[39;00m) \u001b[39mas\u001b[39;00m err:\n\u001b[0;32m-> 1261\u001b[0m     \u001b[39mraise\u001b[39;00m \u001b[39mValueError\u001b[39;00m(\u001b[39mf\u001b[39m\u001b[39m\"\u001b[39m\u001b[39mcannot assemble the datetimes: \u001b[39m\u001b[39m{\u001b[39;00merr\u001b[39m}\u001b[39;00m\u001b[39m\"\u001b[39m) \u001b[39mfrom\u001b[39;00m \u001b[39merr\u001b[39;00m\n\u001b[1;32m   1263\u001b[0m units: \u001b[39mlist\u001b[39m[UnitChoices] \u001b[39m=\u001b[39m [\u001b[39m\"\u001b[39m\u001b[39mh\u001b[39m\u001b[39m\"\u001b[39m, \u001b[39m\"\u001b[39m\u001b[39mm\u001b[39m\u001b[39m\"\u001b[39m, \u001b[39m\"\u001b[39m\u001b[39ms\u001b[39m\u001b[39m\"\u001b[39m, \u001b[39m\"\u001b[39m\u001b[39mms\u001b[39m\u001b[39m\"\u001b[39m, \u001b[39m\"\u001b[39m\u001b[39mus\u001b[39m\u001b[39m\"\u001b[39m, \u001b[39m\"\u001b[39m\u001b[39mns\u001b[39m\u001b[39m\"\u001b[39m]\n\u001b[1;32m   1264\u001b[0m \u001b[39mfor\u001b[39;00m u \u001b[39min\u001b[39;00m units:\n",
      "\u001b[0;31mValueError\u001b[0m: cannot assemble the datetimes: time data \"19780100\" doesn't match format \"%Y%m%d\", at position 0. You might want to try:\n    - passing `format` if your strings have a consistent format;\n    - passing `format='ISO8601'` if your strings are all ISO8601 but not necessarily in exactly the same format;\n    - passing `format='mixed'`, and the format will be inferred for each element individually. You might want to use `dayfirst` alongside this."
     ]
    }
   ],
   "source": [
    "date_cols = ['year', 'month', 'day']\n",
    "data[\"date\"] = pd.to_datetime(data[date_cols].applymap(int))\n",
    "data = data.sort_values('date')"
   ]
  },
  {
   "cell_type": "code",
   "execution_count": null,
   "metadata": {},
   "outputs": [],
   "source": [
    "\n"
   ]
  },
  {
   "cell_type": "code",
   "execution_count": 33,
   "metadata": {},
   "outputs": [
    {
     "name": "stdout",
     "output_type": "stream",
     "text": [
      "5369     1982\n",
      "5370     1982\n",
      "5371     1982\n",
      "5372     1982\n",
      "5373     1982\n",
      "         ... \n",
      "12093    2022\n",
      "12094    2022\n",
      "12095    2022\n",
      "12096    2022\n",
      "12097    2023\n",
      "Name: year, Length: 6729, dtype: int64\n",
      "['x_animas_r_at_durango' 'y_hungry_horse_reservoir_inflow'\n",
      " 'y_snake_r_nr_heise' 'y_pueblo_reservoir_inflow'\n",
      " 'y_sweetwater_r_nr_alcova' 'y_missouri_r_at_toston'\n",
      " 'y_animas_r_at_durango' 'y_yampa_r_nr_maybell' 'y_libby_reservoir_inflow'\n",
      " 'y_boise_r_nr_boise' 'y_green_r_bl_howard_a_hanson_dam'\n",
      " 'y_taylor_park_reservoir_inflow' 'y_dillon_reservoir_inflow'\n",
      " 'y_ruedi_reservoir_inflow' 'y_fontenelle_reservoir_inflow'\n",
      " 'y_weber_r_nr_oakley' 'y_san_joaquin_river_millerton_reservoir'\n",
      " 'y_merced_river_yosemite_at_pohono_bridge' 'y_american_river_folsom_lake'\n",
      " 'y_colville_r_at_kettle_falls' 'y_stehekin_r_at_stehekin'\n",
      " 'y_detroit_lake_inflow' 'y_virgin_r_at_virtin' 'y_skagit_ross_reservoir'\n",
      " 'y_boysen_reservoir_inflow' 'y_pecos_r_nr_pecos'\n",
      " 'y_owyhee_r_bl_owyhee_dam' 'x_hungry_horse_reservoir_inflow'\n",
      " 'x_snake_r_nr_heise' 'x_pueblo_reservoir_inflow'\n",
      " 'x_sweetwater_r_nr_alcova' 'x_missouri_r_at_toston'\n",
      " 'x_yampa_r_nr_maybell' 'x_libby_reservoir_inflow' 'x_boise_r_nr_boise'\n",
      " 'x_green_r_bl_howard_a_hanson_dam' 'x_taylor_park_reservoir_inflow'\n",
      " 'x_dillon_reservoir_inflow' 'x_ruedi_reservoir_inflow'\n",
      " 'x_fontenelle_reservoir_inflow' 'x_weber_r_nr_oakley'\n",
      " 'x_colville_r_at_kettle_falls' 'x_stehekin_r_at_stehekin'\n",
      " 'x_detroit_lake_inflow' 'x_virgin_r_at_virtin' 'x_skagit_ross_reservoir'\n",
      " 'x_boysen_reservoir_inflow' 'x_pecos_r_nr_pecos'\n",
      " 'x_owyhee_r_bl_owyhee_dam' 'boise_r_nr_boise'\n",
      " 'hungry_horse_reservoir_inflow' 'libby_reservoir_inflow'\n",
      " 'missouri_r_at_toston' 'snake_r_nr_heise' 'fontenelle_reservoir_inflow'\n",
      " 'boysen_reservoir_inflow' 'owyhee_r_bl_owyhee_dam' 'animas_r_at_durango'\n",
      " 'weber_r_nr_oakley' 'dillon_reservoir_inflow' 'pueblo_reservoir_inflow'\n",
      " 'san_joaquin_river_millerton_reservoir' 'sweetwater_r_nr_alcova'\n",
      " 'green_r_bl_howard_a_hanson_dam' 'taylor_park_reservoir_inflow'\n",
      " 'ruedi_reservoir_inflow' 'colville_r_at_kettle_falls'\n",
      " 'yampa_r_nr_maybell' 'virgin_r_at_virtin' 'detroit_lake_inflow'\n",
      " 'pecos_r_nr_pecos' 'stehekin_r_at_stehekin' 'skagit_ross_reservoir'\n",
      " 'merced_river_yosemite_at_pohono_bridge']\n",
      "['x_animas_r_at_durango' 'x_sweetwater_r_nr_alcova']\n",
      "[1982 1983 1984 1985 1986 1987 1988 1989 1990 1991 1992 1993 1994 1995\n",
      " 1996 1997 1998 1999 2000 2001 2002 2003 2004 2005 2006 2007 2008 2009\n",
      " 2010 2011 2012 2013 2014 2015 2016 2017 2018 2019 2020 2021 2022]\n"
     ]
    }
   ],
   "source": [
    "not_having_volume_nor_year = data[5369:12092].volume.isna()\n",
    "print(data[5369:12098].year)\n",
    "no_vol_or_year_data = data[5369:12092][not_having_volume_nor_year]\n",
    "#print(no_vol_data)\n",
    "print(data.site_id.unique())\n",
    "american_vols = data[data.site_id==\"x_american_river_folsom_lake\"]\n",
    "ids = no_vol_or_year_data.site_id.unique()\n",
    "years = no_vol_or_year_data.year.unique()\n",
    "print(ids)\n",
    "print(years)"
   ]
  },
  {
   "cell_type": "code",
   "execution_count": null,
   "metadata": {},
   "outputs": [],
   "source": []
  }
 ],
 "metadata": {
  "kernelspec": {
   "display_name": "Python 3",
   "language": "python",
   "name": "python3"
  },
  "language_info": {
   "codemirror_mode": {
    "name": "ipython",
    "version": 3
   },
   "file_extension": ".py",
   "mimetype": "text/x-python",
   "name": "python",
   "nbconvert_exporter": "python",
   "pygments_lexer": "ipython3",
   "version": "3.9.12"
  }
 },
 "nbformat": 4,
 "nbformat_minor": 2
}
