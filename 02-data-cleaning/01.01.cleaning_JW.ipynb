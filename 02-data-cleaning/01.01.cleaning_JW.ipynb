{
 "cells": [
  {
   "cell_type": "code",
   "execution_count": 8,
   "metadata": {},
   "outputs": [],
   "source": [
    "# Read in libraries (required)\n",
    "import os\n",
    "import csv\n",
    "import pandas as pd\n",
    "\n",
    "# Set the directory path where your files are located\n",
    "folder_path = \"C:\\\\Users\\\\johnh\\\\OneDrive\\\\Documents\\\\GitHub\\\\water-supply-forecast\\\\assets\\\\data\\\\teleconnections\""
   ]
  },
  {
   "cell_type": "code",
   "execution_count": 9,
   "metadata": {},
   "outputs": [],
   "source": [
    "# Basic cleaning for MJO dataset\n",
    "df_mjo = pd.read_table(os.path.join(folder_path,\"mjo.txt\"),delim_whitespace=True, skiprows=1)\n",
    "df_mjo = df_mjo.iloc[1:]\n",
    "df_mjo.columns = df_mjo.columns.str.strip()\n",
    "df_mjo = df_mjo.add_prefix('mjo')\n",
    "\n",
    "df_mjo['year'] = df_mjo['mjoPENTAD'].astype(str).str[:4].astype(int)\n",
    "df_mjo['month'] = df_mjo['mjoPENTAD'].astype(str).str[4:6].astype(int)\n",
    "df_mjo['day'] = df_mjo['mjoPENTAD'].astype(str).str[6:8].astype(int)"
   ]
  },
  {
   "cell_type": "code",
   "execution_count": 23,
   "metadata": {},
   "outputs": [],
   "source": [
    "# Basic cleaning for nino dataset\n",
    "df_nino = pd.read_table(os.path.join(folder_path,\"nino_regions_sst.txt\"),delim_whitespace=True)\n",
    "df_nino = df_nino.rename(columns={'YR':'year', 'MON':'month'})\n",
    "df_nino = df_nino.rename(columns={c: 'nino'+c for c in df_nino.columns if c not in ['year', 'month']})"
   ]
  },
  {
   "cell_type": "code",
   "execution_count": 25,
   "metadata": {},
   "outputs": [
    {
     "name": "stdout",
     "output_type": "stream",
     "text": [
      "     year  month  ninoNINO1+2  ninoANOM  ninoNINO3  ninoANOM.1  ninoNINO4  \\\n",
      "0    1982      1        24.28     -0.24      25.84        0.17      28.01   \n",
      "1    1982      2        25.38     -0.72      26.26       -0.11      27.99   \n",
      "2    1982      3        25.22     -1.38      26.92       -0.25      28.18   \n",
      "3    1982      4        24.57     -1.16      27.52       -0.05      28.61   \n",
      "4    1982      5        24.00     -0.62      27.70        0.49      29.19   \n",
      "..    ...    ...          ...       ...        ...         ...        ...   \n",
      "496  2023      5        26.63      2.02      28.11        0.90      29.12   \n",
      "497  2023      6        25.81      2.63      27.85        1.21      29.48   \n",
      "498  2023      7        25.05      3.21      27.47        1.59      29.50   \n",
      "499  2023      8        24.16      3.30      27.17        1.96      29.65   \n",
      "500  2023      9        23.40      2.82      27.08        2.07      29.77   \n",
      "\n",
      "     ninoANOM.2  ninoNINO3.4  ninoANOM.3  \n",
      "0         -0.21        26.65        0.08  \n",
      "1         -0.11        26.54       -0.20  \n",
      "2         -0.05        27.09       -0.14  \n",
      "3          0.10        27.83        0.02  \n",
      "4          0.40        28.37        0.49  \n",
      "..          ...          ...         ...  \n",
      "496        0.33        28.35        0.47  \n",
      "497        0.64        28.59        0.88  \n",
      "498        0.71        28.37        1.07  \n",
      "499        0.95        28.20        1.30  \n",
      "500        1.10        28.29        1.53  \n",
      "\n",
      "[501 rows x 10 columns]\n"
     ]
    }
   ],
   "source": [
    "print(df_nino)"
   ]
  }
 ],
 "metadata": {
  "kernelspec": {
   "display_name": "Python 3",
   "language": "python",
   "name": "python3"
  },
  "language_info": {
   "codemirror_mode": {
    "name": "ipython",
    "version": 3
   },
   "file_extension": ".py",
   "mimetype": "text/x-python",
   "name": "python",
   "nbconvert_exporter": "python",
   "pygments_lexer": "ipython3",
   "version": "3.12.0"
  }
 },
 "nbformat": 4,
 "nbformat_minor": 2
}
