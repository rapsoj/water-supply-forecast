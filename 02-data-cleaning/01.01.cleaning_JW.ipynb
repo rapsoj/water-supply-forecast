{
 "cells": [
  {
   "cell_type": "code",
   "execution_count": 22,
   "metadata": {},
   "outputs": [],
   "source": [
    "# Read in libraries\n",
    "import os\n",
    "import csv\n",
    "import pandas as pd\n",
    "from functools import reduce\n",
    "\n",
    "# Set the directory path where your files are located\n",
    "folder_path = \"C:\\\\Users\\\\johnh\\\\OneDrive\\\\Documents\\\\GitHub\\\\water-supply-forecast\\\\assets\\\\data\\\\teleconnections\"\n",
    "folder_path_flow = \"C:\\\\Users\\\\johnh\\\\OneDrive\\\\Documents\\\\GitHub\\\\water-supply-forecast\\\\assets\\\\data\""
   ]
  },
  {
   "cell_type": "code",
   "execution_count": 23,
   "metadata": {},
   "outputs": [],
   "source": [
    "# Dictionary to map month abbreviations to numeric values\n",
    "month_to_num = {\n",
    "    'Jan': 1, 'Feb': 2, 'Mar': 3, 'Apr': 4,\n",
    "    'May': 5, 'Jun': 6, 'Jul': 7, 'Aug': 8,\n",
    "    'Sep': 9, 'Oct': 10, 'Nov': 11, 'Dec': 12\n",
    "}\n",
    "\n",
    "# Dictionary to map month abbreviations to numeric values\n",
    "month_to_num_up = {\n",
    "    'JAN': 1, 'FEB': 2, 'MAR': 3, 'APR': 4,\n",
    "    'MAY': 5, 'JUN': 6, 'JUL': 7, 'AUG': 8,\n",
    "    'SEP': 9, 'OCT': 10, 'NOV': 11, 'DEC': 12\n",
    "}"
   ]
  },
  {
   "cell_type": "code",
   "execution_count": 24,
   "metadata": {},
   "outputs": [],
   "source": [
    "# Basic cleaning for mjo dataset\n",
    "df_mjo = pd.read_table(os.path.join(folder_path,\"mjo.txt\"),delim_whitespace=True, skiprows=1)\n",
    "df_mjo = df_mjo.iloc[1:]\n",
    "df_mjo.columns = df_mjo.columns.str.strip()\n",
    "df_mjo = df_mjo.add_prefix('mjo')\n",
    "df_mjo = df_mjo[df_mjo['mjo20E'] != '*****'] # Remove future values (missing)\n",
    "\n",
    "df_mjo['year'] = df_mjo['mjoPENTAD'].astype(str).str[:4].astype(int)\n",
    "df_mjo['month'] = df_mjo['mjoPENTAD'].astype(str).str[4:6].astype(int)\n",
    "df_mjo['day'] = df_mjo['mjoPENTAD'].astype(str).str[6:8].astype(int)"
   ]
  },
  {
   "cell_type": "code",
   "execution_count": 25,
   "metadata": {},
   "outputs": [],
   "source": [
    "# Basic cleaning for nino dataset\n",
    "df_nino = pd.read_table(os.path.join(folder_path,\"nino_regions_sst.txt\"),delim_whitespace=True)\n",
    "df_nino = df_nino.rename(columns={'YR':'year', 'MON':'month'})\n",
    "df_nino = df_nino.rename(columns={c: 'nino'+c for c in df_nino.columns if c not in ['year', 'month']})"
   ]
  },
  {
   "cell_type": "code",
   "execution_count": 26,
   "metadata": {},
   "outputs": [],
   "source": [
    "# Basic cleaning for oni dataset\n",
    "df_oni = pd.read_table(os.path.join(folder_path,\"oni.txt\"),delim_whitespace=True)\n",
    "df_oni = df_oni.rename(columns={'YR':'year'})\n",
    "df_oni['month'] = 1 #Assume month of collection is january\n",
    "df_oni = df_oni.rename(columns={c: 'oni'+c for c in df_oni.columns if c not in ['year', 'month']})"
   ]
  },
  {
   "cell_type": "code",
   "execution_count": 39,
   "metadata": {},
   "outputs": [],
   "source": [
    "# Basic cleaning for pdo dataset\n",
    "df_pdo = pd.read_table(os.path.join(folder_path,\"pdo.txt\"),delim_whitespace=True,skiprows=1)\n",
    "df_pdo = pd.melt(df_pdo, id_vars=['Year'], var_name='Month', value_name='pdo')\n",
    "df_pdo = df_pdo.rename(columns={'Year':'year', 'Month':'month'})\n",
    "df_pdo = df_pdo[df_pdo['pdo'] != 99.99] # Remove future values (missing)\n",
    "df_pdo['month'] = df_pdo['month'].map(month_to_num)\n"
   ]
  },
  {
   "cell_type": "code",
   "execution_count": 29,
   "metadata": {},
   "outputs": [],
   "source": [
    "# Basic cleaning for pna dataset\n",
    "df_pna = pd.read_table(os.path.join(folder_path,\"pna.txt\"),delim_whitespace=True)\n",
    "df_pna = pd.melt(df_pna, id_vars=['year'], var_name='month', value_name='pna')\n",
    "df_pna['month'] = df_pna['month'].map(month_to_num)"
   ]
  },
  {
   "cell_type": "code",
   "execution_count": 30,
   "metadata": {},
   "outputs": [],
   "source": [
    "# Basic cleaning for soi dataset\n",
    "df_soi1 = pd.read_table(os.path.join(folder_path,\"soi1.txt\"),delim_whitespace=True,skiprows=3)\n",
    "df_soi1.columns = df_soi1.columns.str.strip()\n",
    "df_soi1 = pd.melt(df_soi1, id_vars=['YEAR'], var_name='month', value_name='soi_anom')\n",
    "df_soi1 = df_soi1.rename(columns={'YEAR':'year'})\n",
    "df_soi1['month'] = df_soi1['month'].map(month_to_num_up)"
   ]
  },
  {
   "cell_type": "code",
   "execution_count": 31,
   "metadata": {},
   "outputs": [],
   "source": [
    "# Basic cleaning for soi dataset\n",
    "df_soi2 = pd.read_table(os.path.join(folder_path,\"soi2.txt\"),delim_whitespace=True,skiprows=3)\n",
    "df_soi2.columns = df_soi2.columns.str.strip()\n",
    "df_soi2 = pd.melt(df_soi2, id_vars=['YEAR'], var_name='month', value_name='soi_sd')\n",
    "df_soi2 = df_soi2.rename(columns={'YEAR':'year'})\n",
    "df_soi2['month'] = df_soi2['month'].map(month_to_num_up)"
   ]
  },
  {
   "cell_type": "code",
   "execution_count": 32,
   "metadata": {},
   "outputs": [],
   "source": [
    "# Merge code\n",
    "data_frames = [df_mjo, df_nino, df_oni, df_pdo, df_pna, df_soi1, df_soi2]\n",
    "df_merged = reduce(lambda  left,right: pd.merge(left,right,on=['year', 'month'],\n",
    "                                            how='outer'), data_frames)\n",
    "\n",
    "# Re-order columns\n",
    "column_order = ['year'] + ['month'] + [col for col in df_merged.columns if col != ['month','year']]\n",
    "df_merged = df_merged[column_order]"
   ]
  },
  {
   "cell_type": "code",
   "execution_count": 33,
   "metadata": {},
   "outputs": [],
   "source": [
    "# Read in test streamflows\n",
    "df_flow = pd.read_csv(os.path.join(folder_path_flow,\"train_monthly_naturalized_flow.csv\"))"
   ]
  },
  {
   "cell_type": "code",
   "execution_count": 34,
   "metadata": {},
   "outputs": [],
   "source": [
    "# Merge code\n",
    "data_frames = [df_mjo, df_nino, df_oni, df_pdo, df_pna, df_soi1, df_soi2, df_flow]\n",
    "df_merged = reduce(lambda  left,right: pd.merge(left,right,on=['year', 'month'],\n",
    "                                            how='outer'), data_frames)"
   ]
  },
  {
   "cell_type": "code",
   "execution_count": 35,
   "metadata": {},
   "outputs": [],
   "source": [
    "# Output the DataFrame to a CSV file\n",
    "df_merged.to_csv('merged_dataframe.csv', index=False)  # Set index=False to exclude the index column"
   ]
  }
 ],
 "metadata": {
  "kernelspec": {
   "display_name": "Python 3",
   "language": "python",
   "name": "python3"
  },
  "language_info": {
   "codemirror_mode": {
    "name": "ipython",
    "version": 3
   },
   "file_extension": ".py",
   "mimetype": "text/x-python",
   "name": "python",
   "nbconvert_exporter": "python",
   "pygments_lexer": "ipython3",
   "version": "3.12.0"
  }
 },
 "nbformat": 4,
 "nbformat_minor": 2
}
