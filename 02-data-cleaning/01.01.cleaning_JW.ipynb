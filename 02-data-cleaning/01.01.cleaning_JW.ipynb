{
 "cells": [
  {
   "cell_type": "code",
   "execution_count": 2,
   "metadata": {},
   "outputs": [],
   "source": [
    "# Read in libraries\n",
    "import os\n",
    "import csv\n",
    "import pandas as pd\n",
    "\n",
    "# Set the directory path where your files are located\n",
    "folder_path = \"C:\\\\Users\\\\johnh\\\\OneDrive\\\\Documents\\\\GitHub\\\\water-supply-forecast\\\\assets\\\\data\\\\teleconnections\""
   ]
  },
  {
   "cell_type": "code",
   "execution_count": 39,
   "metadata": {},
   "outputs": [],
   "source": [
    "# Basic cleaning for MJO dataset\n",
    "df_mjo = pd.read_table(os.path.join(folder_path,\"mjo.txt\"),delim_whitespace=True, skiprows=1)\n",
    "df_mjo = df_mjo.iloc[1:]\n",
    "df_mjo.columns = df_mjo.columns.str.strip()\n",
    "\n",
    "df_mjo['year'] = df_mjo['PENTAD'].astype(str).str[:4].astype(int)\n",
    "df_mjo['month'] = df_mjo['PENTAD'].astype(str).str[4:6].astype(int)\n",
    "df_mjo['day'] = df_mjo['PENTAD'].astype(str).str[6:8].astype(int)"
   ]
  },
  {
   "cell_type": "code",
   "execution_count": 40,
   "metadata": {},
   "outputs": [
    {
     "name": "stdout",
     "output_type": "stream",
     "text": [
      "        PENTAD    20E    70E    80E   100E   120E   140E   160E   120W    40W  \\\n",
      "1     19780108  -0.99  -0.27   0.82   1.39   1.34   1.10   0.57  -0.26  -1.18   \n",
      "2     19780113  -1.10  -1.17  -0.65   0.33   0.60   1.03   1.18   0.96   0.14   \n",
      "3     19780118   1.68   0.88  -0.67  -1.78  -1.70  -1.73  -1.25  -0.20   1.25   \n",
      "4     19780123   2.29   2.45   1.33  -0.69  -1.12  -2.12  -2.50  -2.07  -0.37   \n",
      "5     19780128   1.25   2.22   2.30   0.87   0.35  -0.94  -1.91  -2.44  -1.72   \n",
      "...        ...    ...    ...    ...    ...    ...    ...    ...    ...    ...   \n",
      "3353  20231209  *****  *****  *****  *****  *****  *****  *****  *****  *****   \n",
      "3354  20231214  *****  *****  *****  *****  *****  *****  *****  *****  *****   \n",
      "3355  20231219  *****  *****  *****  *****  *****  *****  *****  *****  *****   \n",
      "3356  20231224  *****  *****  *****  *****  *****  *****  *****  *****  *****   \n",
      "3357  20231229  *****  *****  *****  *****  *****  *****  *****  *****  *****   \n",
      "\n",
      "        10W  \n",
      "1     -1.36  \n",
      "2     -0.69  \n",
      "3      1.88  \n",
      "4      1.40  \n",
      "5     -0.07  \n",
      "...     ...  \n",
      "3353  *****  \n",
      "3354  *****  \n",
      "3355  *****  \n",
      "3356  *****  \n",
      "3357  *****  \n",
      "\n",
      "[3357 rows x 11 columns]\n"
     ]
    }
   ],
   "source": [
    "print(df_mjo)"
   ]
  },
  {
   "cell_type": "code",
   "execution_count": 46,
   "metadata": {},
   "outputs": [],
   "source": []
  },
  {
   "cell_type": "code",
   "execution_count": null,
   "metadata": {},
   "outputs": [],
   "source": [
    "    # Open the file for reading\n",
    "    with open(folder_path, \"r\") as file:\n",
    "        # Read the entire file contents\n",
    "        file_contents = file.read()\n",
    "        print(\"File Contents:\")\n",
    "        print(file_contents)\n",
    "\n",
    "    except FileNotFoundError:\n",
    "        print(f\"The file '{file_path}' was not found.\")\n",
    "    except Exception as e:\n",
    "        print(f\"An error occurred: {e}\")"
   ]
  }
 ],
 "metadata": {
  "kernelspec": {
   "display_name": "Python 3",
   "language": "python",
   "name": "python3"
  },
  "language_info": {
   "codemirror_mode": {
    "name": "ipython",
    "version": 3
   },
   "file_extension": ".py",
   "mimetype": "text/x-python",
   "name": "python",
   "nbconvert_exporter": "python",
   "pygments_lexer": "ipython3",
   "version": "3.12.0"
  }
 },
 "nbformat": 4,
 "nbformat_minor": 2
}
