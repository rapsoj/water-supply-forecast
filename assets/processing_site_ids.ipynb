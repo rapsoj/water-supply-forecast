{
 "cells": [
  {
   "cell_type": "code",
   "execution_count": null,
   "id": "initial_id",
   "metadata": {
    "collapsed": true,
    "ExecuteTime": {
     "end_time": "2023-12-20T10:22:44.689668Z",
     "start_time": "2023-12-20T10:22:40.857732Z"
    }
   },
   "outputs": [],
   "source": [
    "import os\n",
    "import pandas as pd\n",
    "\n",
    "path = os.getcwd()\n"
   ]
  },
  {
   "cell_type": "code",
   "execution_count": null,
   "outputs": [],
   "source": [
    "csv_names = ['hydrobasins_summary', 'swann_swe', 'train_monthly_naturalized_flow']\n",
    "metadata = pd.read_csv(os.path.join(path, 'data', 'additional_sites', 'metadata.csv'))\n",
    "metadata.nrcs_name = metadata.nrcs_name.str.lower().replace('[ ]', '_', regex=True)\n",
    "\n",
    "metadata = metadata[~metadata.site_id.isna()]\n",
    "site_id_dict = metadata.set_index('site_id')['nrcs_name']\n",
    "site_id_dict\n"
   ],
   "metadata": {
    "collapsed": false,
    "ExecuteTime": {
     "end_time": "2023-12-20T10:23:00.847592Z",
     "start_time": "2023-12-20T10:23:00.831272Z"
    }
   },
   "id": "aa267104bc5a93c"
  },
  {
   "cell_type": "code",
   "execution_count": null,
   "outputs": [],
   "source": [
    "for csv_name in csv_names:\n",
    "    df = pd.read_csv(os.path.join(path, 'data', 'additional_sites', f'{csv_name}.csv'))\n",
    "\n",
    "    df['site_id'] = df.site_id.map(site_id_dict)\n",
    "\n",
    "    assert df.site_id.isna().sum() < 10, f'Too many site_ids not found in {csv_name}'\n",
    "\n",
    "    df.to_csv(os.path.join(os.path.join(path, 'data', 'additional_sites', f'{csv_name}.csv')), index=False)"
   ],
   "metadata": {
    "collapsed": false,
    "ExecuteTime": {
     "end_time": "2023-12-20T10:23:22.180062Z",
     "start_time": "2023-12-20T10:23:17.417080Z"
    }
   },
   "id": "51eef6638a82f0f4"
  }
 ],
 "metadata": {
  "kernelspec": {
   "display_name": "Python 3",
   "language": "python",
   "name": "python3"
  },
  "language_info": {
   "codemirror_mode": {
    "name": "ipython",
    "version": 2
   },
   "file_extension": ".py",
   "mimetype": "text/x-python",
   "name": "python",
   "nbconvert_exporter": "python",
   "pygments_lexer": "ipython2",
   "version": "2.7.6"
  }
 },
 "nbformat": 4,
 "nbformat_minor": 5
}
