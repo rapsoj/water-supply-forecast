{
 "cells": [
  {
   "cell_type": "code",
   "execution_count": 1,
   "id": "initial_id",
   "metadata": {
    "collapsed": true,
    "ExecuteTime": {
     "end_time": "2023-12-20T21:47:34.714733Z",
     "start_time": "2023-12-20T21:47:34.380809Z"
    }
   },
   "outputs": [],
   "source": [
    "import os\n",
    "import pandas as pd\n",
    "\n",
    "path = os.getcwd()\n"
   ]
  },
  {
   "cell_type": "code",
   "execution_count": 3,
   "outputs": [
    {
     "data": {
      "text/plain": "site_id\nhungry_horse_reservoir_inflow              hungry_horse_reservoir_inflow\nsnake_r_nr_heise                                        snake_r_nr_heise\npueblo_reservoir_inflow                          pueblo_reservoir_inflow\nsweetwater_r_nr_alcova                            sweetwater_r_nr_alcova\nmissouri_r_at_toston                                missouri_r_at_toston\n                                                  ...                   \n06329500:MT:USGS                                 yellowstone_r_nr_sidney\n11418000:CA:USGS                 yuba_r_bl_englebright_dam_nr_smartville\n15356000:AK:USGS                                        yukon_r_at_eagle\n15453500:AK:USGS                              yukon_r_nr_stevens_village\n09386950:NM:USGS                          zuni_r_ab_black_rock_reservoir\nName: nrcs_name, Length: 618, dtype: object"
     },
     "execution_count": 3,
     "metadata": {},
     "output_type": "execute_result"
    }
   ],
   "source": [
    "csv_names = ['hydrobasins_summary', 'swann_swe', 'train_monthly_naturalized_flow']\n",
    "metadata = pd.read_csv(os.path.join(path, 'data', 'additional_sites', 'metadata.csv'))\n",
    "metadata.nrcs_name = metadata.nrcs_name.str.lower().replace('[ ]', '_', regex=True)\n",
    "\n",
    "metadata = metadata[~metadata.site_id.isna()]\n",
    "site_id_dict = metadata.set_index('site_id')['nrcs_name']\n",
    "site_id_dict\n"
   ],
   "metadata": {
    "collapsed": false,
    "ExecuteTime": {
     "end_time": "2023-12-20T21:49:10.334300Z",
     "start_time": "2023-12-20T21:49:10.316413Z"
    }
   },
   "id": "aa267104bc5a93c"
  },
  {
   "cell_type": "code",
   "execution_count": 4,
   "outputs": [],
   "source": [
    "for csv_name in csv_names:\n",
    "    df = pd.read_csv(os.path.join(path, 'data', 'additional_sites', f'{csv_name}.csv'))\n",
    "\n",
    "    df['site_id'] = df.site_id.map(site_id_dict)\n",
    "\n",
    "    assert df.site_id.isna().sum() < 10, f'Too many site_ids not found in {csv_name}'\n",
    "\n",
    "    df.to_csv(os.path.join(os.path.join(path, 'data', 'additional_sites', f'{csv_name}.csv')), index=False)"
   ],
   "metadata": {
    "collapsed": false,
    "ExecuteTime": {
     "end_time": "2023-12-20T21:49:27.546682Z",
     "start_time": "2023-12-20T21:49:23.286345Z"
    }
   },
   "id": "51eef6638a82f0f4"
  },
  {
   "cell_type": "code",
   "execution_count": null,
   "outputs": [],
   "source": [],
   "metadata": {
    "collapsed": false
   },
   "id": "6b3ef27c5173d40e"
  }
 ],
 "metadata": {
  "kernelspec": {
   "display_name": "Python 3",
   "language": "python",
   "name": "python3"
  },
  "language_info": {
   "codemirror_mode": {
    "name": "ipython",
    "version": 2
   },
   "file_extension": ".py",
   "mimetype": "text/x-python",
   "name": "python",
   "nbconvert_exporter": "python",
   "pygments_lexer": "ipython2",
   "version": "2.7.6"
  }
 },
 "nbformat": 4,
 "nbformat_minor": 5
}
