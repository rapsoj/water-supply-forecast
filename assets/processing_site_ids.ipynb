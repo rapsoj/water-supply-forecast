{
 "cells": [
  {
   "cell_type": "code",
   "execution_count": 1,
   "id": "initial_id",
   "metadata": {
    "collapsed": true,
    "ExecuteTime": {
     "end_time": "2023-12-19T18:33:26.418906Z",
     "start_time": "2023-12-19T18:33:26.051171Z"
    }
   },
   "outputs": [],
   "source": [
    "import os\n",
    "import pandas as pd\n",
    "\n",
    "path = os.getcwd()\n"
   ]
  },
  {
   "cell_type": "code",
   "execution_count": 4,
   "outputs": [
    {
     "data": {
      "text/plain": "nrcs_id\n12362500:MT:USGS              hungry_horse_reservoir_inflow\n13037500:ID:USGS                           snake_r_nr_heise\n07099400:CO:USGS                    pueblo_reservoir_inflow\n06639000:WY:USGS                     sweetwater_r_nr_alcova\n06054500:MT:USGS                       missouri_r_at_toston\n                                     ...                   \n06329500:MT:USGS                    yellowstone_r_nr_sidney\n11418000:CA:USGS    yuba_r_bl_englebright_dam_nr_smartville\n15356000:AK:USGS                           yukon_r_at_eagle\n15453500:AK:USGS                 yukon_r_nr_stevens_village\n09386950:NM:USGS             zuni_r_ab_black_rock_reservoir\nName: nrcs_name, Length: 614, dtype: object"
     },
     "execution_count": 4,
     "metadata": {},
     "output_type": "execute_result"
    }
   ],
   "source": [
    "csv_names = ['hydrobasins_summary', 'swann_swe', 'train_monthly_naturalized_flow']\n",
    "metadata = pd.read_csv(os.path.join(path, 'data', 'additional_sites', 'metadata.csv'))\n",
    "metadata.nrcs_name = metadata.nrcs_name.str.lower() \\\n",
    "    .replace('[ ]', '_', regex=True)\n",
    "\n",
    "metadata = metadata[~metadata.nrcs_id.isna()]\n",
    "site_id_dict = metadata.set_index('nrcs_id')['nrcs_name']\n",
    "site_id_dict\n"
   ],
   "metadata": {
    "collapsed": false,
    "ExecuteTime": {
     "end_time": "2023-12-19T18:34:45.664792Z",
     "start_time": "2023-12-19T18:34:45.638034Z"
    }
   },
   "id": "aa267104bc5a93c"
  },
  {
   "cell_type": "code",
   "execution_count": 8,
   "outputs": [
    {
     "name": "stdout",
     "output_type": "stream",
     "text": [
      "1\n",
      "1\n",
      "1\n"
     ]
    }
   ],
   "source": [
    "for csv_name in csv_names:\n",
    "    df = pd.read_csv(os.path.join(path, 'data', 'additional_sites', f'{csv_name}.csv'))\n",
    "    \n",
    "    #df.nrcs_id.replace(site_id_dict, inplace=True)\n",
    "    #df.nrcs_id = df.nrcs_id.map(site_id_dict)\n",
    "    print(1)\n",
    "    df['site_id'] = df.nrcs_id.map(site_id_dict)\n",
    "    df = df.drop(columns=['nrcs_id']).reset_index(drop=True)\n",
    "\n",
    "    df.to_csv(os.path.join(os.path.join(path, 'data', 'additional_sites', f'{csv_name}.csv')), index=False)"
   ],
   "metadata": {
    "collapsed": false,
    "ExecuteTime": {
     "end_time": "2023-12-19T18:37:43.950577Z",
     "start_time": "2023-12-19T18:37:38.844937Z"
    }
   },
   "id": "51eef6638a82f0f4"
  },
  {
   "cell_type": "code",
   "execution_count": null,
   "outputs": [],
   "source": [],
   "metadata": {
    "collapsed": false
   },
   "id": "b4bc069b969e6ab8"
  }
 ],
 "metadata": {
  "kernelspec": {
   "display_name": "Python 3",
   "language": "python",
   "name": "python3"
  },
  "language_info": {
   "codemirror_mode": {
    "name": "ipython",
    "version": 2
   },
   "file_extension": ".py",
   "mimetype": "text/x-python",
   "name": "python",
   "nbconvert_exporter": "python",
   "pygments_lexer": "ipython2",
   "version": "2.7.6"
  }
 },
 "nbformat": 4,
 "nbformat_minor": 5
}
