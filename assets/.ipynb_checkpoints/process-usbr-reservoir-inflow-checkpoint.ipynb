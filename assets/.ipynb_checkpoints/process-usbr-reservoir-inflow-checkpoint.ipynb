{
 "cells": [
  {
   "cell_type": "markdown",
   "id": "95188925",
   "metadata": {},
   "source": [
    "# Process USBR Reservoir Inflow"
   ]
  },
  {
   "cell_type": "markdown",
   "id": "fca7a100",
   "metadata": {},
   "source": [
    "### Prepare Workspace"
   ]
  },
  {
   "cell_type": "code",
   "execution_count": null,
   "id": "cc888be9",
   "metadata": {},
   "outputs": [],
   "source": []
  }
 ],
 "metadata": {
  "kernelspec": {
   "display_name": "Python 3 (ipykernel)",
   "language": "python",
   "name": "python3"
  },
  "language_info": {
   "codemirror_mode": {
    "name": "ipython",
    "version": 3
   },
   "file_extension": ".py",
   "mimetype": "text/x-python",
   "name": "python",
   "nbconvert_exporter": "python",
   "pygments_lexer": "ipython3",
   "version": "3.9.7"
  }
 },
 "nbformat": 4,
 "nbformat_minor": 5
}
