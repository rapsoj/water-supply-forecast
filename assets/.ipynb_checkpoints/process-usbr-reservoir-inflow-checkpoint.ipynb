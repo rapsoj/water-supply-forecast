{
 "cells": [
  {
   "cell_type": "markdown",
   "id": "914113d6",
   "metadata": {},
   "source": [
    "# Process USBR Reservoir Inflow"
   ]
  },
  {
   "cell_type": "markdown",
   "id": "2751f36b",
   "metadata": {},
   "source": [
    "### Prepare Workspace"
   ]
  },
  {
   "cell_type": "code",
   "execution_count": 1,
   "id": "14a33b8b",
   "metadata": {},
   "outputs": [],
   "source": [
    "# Import system libraries\n",
    "import os\n",
    "import sys\n",
    "\n",
    "# Import data manipulation libraries\n",
    "import pandas as pd\n",
    "import numpy as np\n",
    "\n",
    "# Import API libraries\n",
    "import requests\n",
    "import csv\n",
    "\n",
    "# Set working directory\n",
    "os.chdir('/Users/jessicarapson/Documents/GitHub/water-supply-forecast')"
   ]
  },
  {
   "cell_type": "markdown",
   "id": "399cdeb4",
   "metadata": {},
   "source": [
    "### Load Data from Folders"
   ]
  },
  {
   "cell_type": "code",
   "execution_count": 15,
   "id": "ef1ffdbf",
   "metadata": {},
   "outputs": [
    {
     "ename": "NameError",
     "evalue": "name 'result' is not defined",
     "output_type": "error",
     "traceback": [
      "\u001b[0;31m---------------------------------------------------------------------------\u001b[0m",
      "\u001b[0;31mNameError\u001b[0m                                 Traceback (most recent call last)",
      "\u001b[0;32m/var/folders/ws/9hc4t42j3ls9vb_fw81ddmhw0000gn/T/ipykernel_3095/4011888471.py\u001b[0m in \u001b[0;36m<module>\u001b[0;34m\u001b[0m\n\u001b[1;32m     29\u001b[0m \u001b[0;34m\u001b[0m\u001b[0m\n\u001b[1;32m     30\u001b[0m \u001b[0;31m# Perform additional cleaning\u001b[0m\u001b[0;34m\u001b[0m\u001b[0;34m\u001b[0m\u001b[0m\n\u001b[0;32m---> 31\u001b[0;31m \u001b[0mresult\u001b[0m\u001b[0;34m[\u001b[0m\u001b[0;34m'date'\u001b[0m\u001b[0;34m]\u001b[0m \u001b[0;34m=\u001b[0m \u001b[0mpd\u001b[0m\u001b[0;34m.\u001b[0m\u001b[0mto_datetime\u001b[0m\u001b[0;34m(\u001b[0m\u001b[0mresult\u001b[0m\u001b[0;34m[\u001b[0m\u001b[0;34m'datetime'\u001b[0m\u001b[0;34m]\u001b[0m\u001b[0;34m)\u001b[0m\u001b[0;34m\u001b[0m\u001b[0;34m\u001b[0m\u001b[0m\n\u001b[0m\u001b[1;32m     32\u001b[0m \u001b[0;34m\u001b[0m\u001b[0m\n\u001b[1;32m     33\u001b[0m \u001b[0;31m# Export data\u001b[0m\u001b[0;34m\u001b[0m\u001b[0;34m\u001b[0m\u001b[0m\n",
      "\u001b[0;31mNameError\u001b[0m: name 'result' is not defined"
     ]
    }
   ],
   "source": [
    "metadata = pd.read_csv(\"./assets/data/metadata.csv\")\n",
    "\n",
    "# Create empty list\n",
    "usbr_all = []\n",
    "\n",
    "# Loop through years\n",
    "#for year in range(1985, 2025):\n",
    "year = 2020\n",
    "\n",
    "# Loop through forecasting sites\n",
    "#for site in metadata['site_id']:\n",
    "site = \"hungry_horse_reservoir_inflow\"\n",
    "file_path = f\"./assets/data/usgs_streamflow/FY{year}/{site}.csv\"\n",
    "\n",
    "#  # Check if the file exists for the station\n",
    "# if not os.path.exists(file_path):\n",
    "#     print(f\"File not found for site {site}. Skipping...\")\n",
    "#     continue\n",
    "    \n",
    "# Read in daily flow data for the selected year\n",
    "flow_data = pd.read_csv(file_path)\n",
    "flow_data['site_id'] = site\n",
    "\n",
    "# Select data of interest\n",
    "flow_data = flow_data[['site_id', 'datetime', '00060_Mean']]\n",
    "\n",
    "# Combine data\n",
    "result = pd.concat(usbr_all, axis=0, ignore_index=True)\n",
    "\n",
    "# Perform additional cleaning\n",
    "result['date'] = pd.to_datetime(flow_data['datetime']).dt.date\n",
    "\n",
    "# Export data"
   ]
  },
  {
   "cell_type": "code",
   "execution_count": 14,
   "id": "7f7dd23f",
   "metadata": {},
   "outputs": [
    {
     "data": {
      "text/plain": [
       "0     2019-10-01 00:00:00+00:00\n",
       "1     2019-10-02 00:00:00+00:00\n",
       "2     2019-10-03 00:00:00+00:00\n",
       "3     2019-10-04 00:00:00+00:00\n",
       "4     2019-10-05 00:00:00+00:00\n",
       "                 ...           \n",
       "290   2020-07-17 00:00:00+00:00\n",
       "291   2020-07-18 00:00:00+00:00\n",
       "292   2020-07-19 00:00:00+00:00\n",
       "293   2020-07-20 00:00:00+00:00\n",
       "294   2020-07-21 00:00:00+00:00\n",
       "Name: datetime, Length: 295, dtype: datetime64[ns, UTC]"
      ]
     },
     "execution_count": 14,
     "metadata": {},
     "output_type": "execute_result"
    }
   ],
   "source": [
    "pd.to_datetime(flow_data['datetime'])"
   ]
  },
  {
   "cell_type": "code",
   "execution_count": 18,
   "id": "8ffd2701",
   "metadata": {},
   "outputs": [
    {
     "data": {
      "text/plain": [
       "0      2019-10-01\n",
       "1      2019-10-02\n",
       "2      2019-10-03\n",
       "3      2019-10-04\n",
       "4      2019-10-05\n",
       "          ...    \n",
       "290    2020-07-17\n",
       "291    2020-07-18\n",
       "292    2020-07-19\n",
       "293    2020-07-20\n",
       "294    2020-07-21\n",
       "Name: datetime, Length: 295, dtype: object"
      ]
     },
     "execution_count": 18,
     "metadata": {},
     "output_type": "execute_result"
    }
   ],
   "source": []
  },
  {
   "cell_type": "code",
   "execution_count": null,
   "id": "67428cde",
   "metadata": {},
   "outputs": [],
   "source": []
  }
 ],
 "metadata": {
  "kernelspec": {
   "display_name": "Python 3 (ipykernel)",
   "language": "python",
   "name": "python3"
  },
  "language_info": {
   "codemirror_mode": {
    "name": "ipython",
    "version": 3
   },
   "file_extension": ".py",
   "mimetype": "text/x-python",
   "name": "python",
   "nbconvert_exporter": "python",
   "pygments_lexer": "ipython3",
   "version": "3.9.7"
  }
 },
 "nbformat": 4,
 "nbformat_minor": 5
}
