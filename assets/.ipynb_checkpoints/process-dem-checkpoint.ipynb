{
 "cells": [
  {
   "cell_type": "markdown",
   "id": "bebb5bed",
   "metadata": {},
   "source": [
    "# Process Copernicus Digital Elevation Model (DEM)"
   ]
  },
  {
   "cell_type": "markdown",
   "id": "70849e07",
   "metadata": {},
   "source": [
    "### Prepare Workspace"
   ]
  },
  {
   "cell_type": "code",
   "execution_count": 2,
   "id": "e187e484",
   "metadata": {},
   "outputs": [
    {
     "name": "stderr",
     "output_type": "stream",
     "text": [
      "/Users/jessicarapson/anaconda3/lib/python3.11/site-packages/dask/dataframe/_pyarrow_compat.py:17: FutureWarning: Minimal version of pyarrow will soon be increased to 14.0.1. You are using 11.0.0. Please consider upgrading.\n",
      "  warnings.warn(\n"
     ]
    }
   ],
   "source": [
    "# Import system libraries\n",
    "import os\n",
    "import sys\n",
    "\n",
    "# Import data manipulation libraries\n",
    "import pandas as pd\n",
    "import numpy as np\n",
    "from shapely.geometry import Polygon, mapping\n",
    "\n",
    "# Import geospatial libraries\n",
    "import geopandas as gpd\n",
    "import xarray as xr\n",
    "import rioxarray\n",
    "import rasterio.mask\n",
    "\n",
    "# Import API libraries\n",
    "import pystac_client\n",
    "import planetary_computer\n",
    "\n",
    "# Import visualisation libraries (optional)\n",
    "import xrspatial\n",
    "from datashader.transfer_functions import shade, stack\n",
    "from datashader.colors import Elevation\n",
    "\n",
    "# Set working directory\n",
    "os.chdir('/Users/jessicarapson/Documents/GitHub/water-supply-forecast')"
   ]
  },
  {
   "cell_type": "markdown",
   "id": "c6b6f647",
   "metadata": {},
   "source": [
    "### Load Data from API"
   ]
  },
  {
   "cell_type": "code",
   "execution_count": 96,
   "id": "df41eb86",
   "metadata": {},
   "outputs": [
    {
     "name": "stdout",
     "output_type": "stream",
     "text": [
      "Processing DEM for: hungry_horse_reservoir_inflow (1/26)\n"
     ]
    },
    {
     "name": "stderr",
     "output_type": "stream",
     "text": [
      "/Users/jessicarapson/anaconda3/lib/python3.11/site-packages/pystac_client/item_search.py:835: FutureWarning: get_items() is deprecated, use items() instead\n",
      "  warnings.warn(\n"
     ]
    },
    {
     "name": "stdout",
     "output_type": "stream",
     "text": [
      "Processing item: 1/6\n",
      "Processing item: 2/6\n",
      "Processing item: 3/6\n",
      "Processing item: 4/6\n",
      "Processing item: 5/6\n",
      "Processing item: 6/6\n"
     ]
    },
    {
     "name": "stderr",
     "output_type": "stream",
     "text": [
      "/var/folders/ws/9hc4t42j3ls9vb_fw81ddmhw0000gn/T/ipykernel_84784/1227777575.py:87: RuntimeWarning: overflow encountered in square\n",
      "  slope_rad = np.arctan(np.sqrt(dz_dx**2 + dz_dy**2))\n",
      "/Users/jessicarapson/anaconda3/lib/python3.11/site-packages/pystac_client/item_search.py:835: FutureWarning: get_items() is deprecated, use items() instead\n",
      "  warnings.warn(\n"
     ]
    },
    {
     "name": "stdout",
     "output_type": "stream",
     "text": [
      "\n",
      "###################################################\n",
      "Processing DEM for: snake_r_nr_heise (2/26)\n",
      "Processing item: 1/9\n",
      "Processing item: 2/9\n",
      "Processing item: 3/9\n",
      "Processing item: 4/9\n",
      "Processing item: 5/9\n",
      "Processing item: 6/9\n",
      "Processing item: 7/9\n",
      "Processing item: 8/9\n",
      "Processing item: 9/9\n"
     ]
    },
    {
     "name": "stderr",
     "output_type": "stream",
     "text": [
      "/var/folders/ws/9hc4t42j3ls9vb_fw81ddmhw0000gn/T/ipykernel_84784/1227777575.py:87: RuntimeWarning: overflow encountered in square\n",
      "  slope_rad = np.arctan(np.sqrt(dz_dx**2 + dz_dy**2))\n",
      "/Users/jessicarapson/anaconda3/lib/python3.11/site-packages/pystac_client/item_search.py:835: FutureWarning: get_items() is deprecated, use items() instead\n",
      "  warnings.warn(\n"
     ]
    },
    {
     "name": "stdout",
     "output_type": "stream",
     "text": [
      "\n",
      "###################################################\n",
      "Processing DEM for: pueblo_reservoir_inflow (3/26)\n",
      "Processing item: 1/9\n",
      "Processing item: 2/9\n",
      "Processing item: 3/9\n",
      "Processing item: 4/9\n",
      "Processing item: 5/9\n",
      "Processing item: 6/9\n",
      "Processing item: 7/9\n",
      "Processing item: 8/9\n",
      "Processing item: 9/9\n"
     ]
    },
    {
     "name": "stderr",
     "output_type": "stream",
     "text": [
      "/var/folders/ws/9hc4t42j3ls9vb_fw81ddmhw0000gn/T/ipykernel_84784/1227777575.py:87: RuntimeWarning: overflow encountered in square\n",
      "  slope_rad = np.arctan(np.sqrt(dz_dx**2 + dz_dy**2))\n",
      "/Users/jessicarapson/anaconda3/lib/python3.11/site-packages/pystac_client/item_search.py:835: FutureWarning: get_items() is deprecated, use items() instead\n",
      "  warnings.warn(\n"
     ]
    },
    {
     "name": "stdout",
     "output_type": "stream",
     "text": [
      "\n",
      "###################################################\n",
      "Processing DEM for: sweetwater_r_nr_alcova (4/26)\n",
      "Processing item: 1/3\n",
      "Processing item: 2/3\n",
      "Processing item: 3/3\n"
     ]
    },
    {
     "name": "stderr",
     "output_type": "stream",
     "text": [
      "/var/folders/ws/9hc4t42j3ls9vb_fw81ddmhw0000gn/T/ipykernel_84784/1227777575.py:87: RuntimeWarning: overflow encountered in square\n",
      "  slope_rad = np.arctan(np.sqrt(dz_dx**2 + dz_dy**2))\n",
      "/Users/jessicarapson/anaconda3/lib/python3.11/site-packages/pystac_client/item_search.py:835: FutureWarning: get_items() is deprecated, use items() instead\n",
      "  warnings.warn(\n"
     ]
    },
    {
     "name": "stdout",
     "output_type": "stream",
     "text": [
      "\n",
      "###################################################\n",
      "Processing DEM for: missouri_r_at_toston (5/26)\n",
      "Processing item: 1/12\n",
      "Processing item: 2/12\n",
      "Processing item: 3/12\n",
      "Processing item: 4/12\n",
      "Processing item: 5/12\n",
      "Processing item: 6/12\n",
      "Processing item: 7/12\n",
      "Processing item: 8/12\n",
      "Processing item: 9/12\n",
      "Processing item: 10/12\n",
      "Processing item: 11/12\n",
      "Processing item: 12/12\n"
     ]
    },
    {
     "name": "stderr",
     "output_type": "stream",
     "text": [
      "/var/folders/ws/9hc4t42j3ls9vb_fw81ddmhw0000gn/T/ipykernel_84784/1227777575.py:87: RuntimeWarning: overflow encountered in square\n",
      "  slope_rad = np.arctan(np.sqrt(dz_dx**2 + dz_dy**2))\n",
      "/Users/jessicarapson/anaconda3/lib/python3.11/site-packages/pystac_client/item_search.py:835: FutureWarning: get_items() is deprecated, use items() instead\n",
      "  warnings.warn(\n"
     ]
    },
    {
     "name": "stdout",
     "output_type": "stream",
     "text": [
      "\n",
      "###################################################\n",
      "Processing DEM for: animas_r_at_durango (6/26)\n",
      "Processing item: 1/2\n",
      "Processing item: 2/2\n"
     ]
    },
    {
     "name": "stderr",
     "output_type": "stream",
     "text": [
      "/var/folders/ws/9hc4t42j3ls9vb_fw81ddmhw0000gn/T/ipykernel_84784/1227777575.py:87: RuntimeWarning: overflow encountered in square\n",
      "  slope_rad = np.arctan(np.sqrt(dz_dx**2 + dz_dy**2))\n",
      "/Users/jessicarapson/anaconda3/lib/python3.11/site-packages/pystac_client/item_search.py:835: FutureWarning: get_items() is deprecated, use items() instead\n",
      "  warnings.warn(\n"
     ]
    },
    {
     "name": "stdout",
     "output_type": "stream",
     "text": [
      "\n",
      "###################################################\n",
      "Processing DEM for: yampa_r_nr_maybell (7/26)\n",
      "Processing item: 1/6\n",
      "Processing item: 2/6\n",
      "Processing item: 3/6\n",
      "Processing item: 4/6\n",
      "Processing item: 5/6\n",
      "Processing item: 6/6\n"
     ]
    },
    {
     "name": "stderr",
     "output_type": "stream",
     "text": [
      "/var/folders/ws/9hc4t42j3ls9vb_fw81ddmhw0000gn/T/ipykernel_84784/1227777575.py:87: RuntimeWarning: overflow encountered in square\n",
      "  slope_rad = np.arctan(np.sqrt(dz_dx**2 + dz_dy**2))\n",
      "/Users/jessicarapson/anaconda3/lib/python3.11/site-packages/pystac_client/item_search.py:835: FutureWarning: get_items() is deprecated, use items() instead\n",
      "  warnings.warn(\n"
     ]
    },
    {
     "name": "stdout",
     "output_type": "stream",
     "text": [
      "\n",
      "###################################################\n",
      "Processing DEM for: libby_reservoir_inflow (8/26)\n",
      "Processing item: 1/12\n",
      "Processing item: 2/12\n",
      "Processing item: 3/12\n",
      "Processing item: 4/12\n",
      "Processing item: 5/12\n",
      "Processing item: 6/12\n",
      "Processing item: 7/12\n",
      "Processing item: 8/12\n",
      "Processing item: 9/12\n",
      "Processing item: 10/12\n",
      "Processing item: 11/12\n",
      "Processing item: 12/12\n"
     ]
    },
    {
     "name": "stderr",
     "output_type": "stream",
     "text": [
      "/var/folders/ws/9hc4t42j3ls9vb_fw81ddmhw0000gn/T/ipykernel_84784/1227777575.py:87: RuntimeWarning: overflow encountered in square\n",
      "  slope_rad = np.arctan(np.sqrt(dz_dx**2 + dz_dy**2))\n",
      "/Users/jessicarapson/anaconda3/lib/python3.11/site-packages/pystac_client/item_search.py:835: FutureWarning: get_items() is deprecated, use items() instead\n",
      "  warnings.warn(\n"
     ]
    },
    {
     "name": "stdout",
     "output_type": "stream",
     "text": [
      "\n",
      "###################################################\n",
      "Processing DEM for: boise_r_nr_boise (9/26)\n",
      "Processing item: 1/6\n",
      "Processing item: 2/6\n",
      "Processing item: 3/6\n",
      "Processing item: 4/6\n",
      "Processing item: 5/6\n",
      "Processing item: 6/6\n"
     ]
    },
    {
     "name": "stderr",
     "output_type": "stream",
     "text": [
      "/var/folders/ws/9hc4t42j3ls9vb_fw81ddmhw0000gn/T/ipykernel_84784/1227777575.py:87: RuntimeWarning: overflow encountered in square\n",
      "  slope_rad = np.arctan(np.sqrt(dz_dx**2 + dz_dy**2))\n",
      "/Users/jessicarapson/anaconda3/lib/python3.11/site-packages/pystac_client/item_search.py:835: FutureWarning: get_items() is deprecated, use items() instead\n",
      "  warnings.warn(\n"
     ]
    },
    {
     "name": "stdout",
     "output_type": "stream",
     "text": [
      "\n",
      "###################################################\n",
      "Processing DEM for: green_r_bl_howard_a_hanson_dam (10/26)\n",
      "Processing item: 1/1\n"
     ]
    },
    {
     "name": "stderr",
     "output_type": "stream",
     "text": [
      "/var/folders/ws/9hc4t42j3ls9vb_fw81ddmhw0000gn/T/ipykernel_84784/1227777575.py:87: RuntimeWarning: overflow encountered in square\n",
      "  slope_rad = np.arctan(np.sqrt(dz_dx**2 + dz_dy**2))\n",
      "/Users/jessicarapson/anaconda3/lib/python3.11/site-packages/pystac_client/item_search.py:835: FutureWarning: get_items() is deprecated, use items() instead\n",
      "  warnings.warn(\n"
     ]
    },
    {
     "name": "stdout",
     "output_type": "stream",
     "text": [
      "\n",
      "###################################################\n",
      "Processing DEM for: taylor_park_reservoir_inflow (11/26)\n",
      "Processing item: 1/2\n",
      "Processing item: 2/2\n"
     ]
    },
    {
     "name": "stderr",
     "output_type": "stream",
     "text": [
      "/var/folders/ws/9hc4t42j3ls9vb_fw81ddmhw0000gn/T/ipykernel_84784/1227777575.py:87: RuntimeWarning: overflow encountered in square\n",
      "  slope_rad = np.arctan(np.sqrt(dz_dx**2 + dz_dy**2))\n",
      "/Users/jessicarapson/anaconda3/lib/python3.11/site-packages/pystac_client/item_search.py:835: FutureWarning: get_items() is deprecated, use items() instead\n",
      "  warnings.warn(\n"
     ]
    },
    {
     "name": "stdout",
     "output_type": "stream",
     "text": [
      "\n",
      "###################################################\n",
      "Processing DEM for: dillon_reservoir_inflow (12/26)\n",
      "Processing item: 1/2\n",
      "Processing item: 2/2\n"
     ]
    },
    {
     "name": "stderr",
     "output_type": "stream",
     "text": [
      "/var/folders/ws/9hc4t42j3ls9vb_fw81ddmhw0000gn/T/ipykernel_84784/1227777575.py:87: RuntimeWarning: overflow encountered in square\n",
      "  slope_rad = np.arctan(np.sqrt(dz_dx**2 + dz_dy**2))\n",
      "/Users/jessicarapson/anaconda3/lib/python3.11/site-packages/pystac_client/item_search.py:835: FutureWarning: get_items() is deprecated, use items() instead\n",
      "  warnings.warn(\n"
     ]
    },
    {
     "name": "stdout",
     "output_type": "stream",
     "text": [
      "\n",
      "###################################################\n",
      "Processing DEM for: ruedi_reservoir_inflow (13/26)\n",
      "Processing item: 1/1\n"
     ]
    },
    {
     "name": "stderr",
     "output_type": "stream",
     "text": [
      "/var/folders/ws/9hc4t42j3ls9vb_fw81ddmhw0000gn/T/ipykernel_84784/1227777575.py:87: RuntimeWarning: overflow encountered in square\n",
      "  slope_rad = np.arctan(np.sqrt(dz_dx**2 + dz_dy**2))\n",
      "/Users/jessicarapson/anaconda3/lib/python3.11/site-packages/pystac_client/item_search.py:835: FutureWarning: get_items() is deprecated, use items() instead\n",
      "  warnings.warn(\n"
     ]
    },
    {
     "name": "stdout",
     "output_type": "stream",
     "text": [
      "\n",
      "###################################################\n",
      "Processing DEM for: fontenelle_reservoir_inflow (14/26)\n",
      "Processing item: 1/4\n",
      "Processing item: 2/4\n",
      "Processing item: 3/4\n",
      "Processing item: 4/4\n"
     ]
    },
    {
     "name": "stderr",
     "output_type": "stream",
     "text": [
      "/var/folders/ws/9hc4t42j3ls9vb_fw81ddmhw0000gn/T/ipykernel_84784/1227777575.py:87: RuntimeWarning: overflow encountered in square\n",
      "  slope_rad = np.arctan(np.sqrt(dz_dx**2 + dz_dy**2))\n",
      "/Users/jessicarapson/anaconda3/lib/python3.11/site-packages/pystac_client/item_search.py:835: FutureWarning: get_items() is deprecated, use items() instead\n",
      "  warnings.warn(\n"
     ]
    },
    {
     "name": "stdout",
     "output_type": "stream",
     "text": [
      "\n",
      "###################################################\n",
      "Processing DEM for: weber_r_nr_oakley (15/26)\n",
      "Processing item: 1/2\n",
      "Processing item: 2/2\n"
     ]
    },
    {
     "name": "stderr",
     "output_type": "stream",
     "text": [
      "/var/folders/ws/9hc4t42j3ls9vb_fw81ddmhw0000gn/T/ipykernel_84784/1227777575.py:87: RuntimeWarning: overflow encountered in square\n",
      "  slope_rad = np.arctan(np.sqrt(dz_dx**2 + dz_dy**2))\n",
      "/Users/jessicarapson/anaconda3/lib/python3.11/site-packages/pystac_client/item_search.py:835: FutureWarning: get_items() is deprecated, use items() instead\n",
      "  warnings.warn(\n"
     ]
    },
    {
     "name": "stdout",
     "output_type": "stream",
     "text": [
      "\n",
      "###################################################\n",
      "Processing DEM for: san_joaquin_river_millerton_reservoir (16/26)\n",
      "Processing item: 1/6\n",
      "Processing item: 2/6\n",
      "Processing item: 3/6\n",
      "Processing item: 4/6\n",
      "Processing item: 5/6\n",
      "Processing item: 6/6\n"
     ]
    },
    {
     "name": "stderr",
     "output_type": "stream",
     "text": [
      "/var/folders/ws/9hc4t42j3ls9vb_fw81ddmhw0000gn/T/ipykernel_84784/1227777575.py:87: RuntimeWarning: overflow encountered in square\n",
      "  slope_rad = np.arctan(np.sqrt(dz_dx**2 + dz_dy**2))\n",
      "/Users/jessicarapson/anaconda3/lib/python3.11/site-packages/pystac_client/item_search.py:835: FutureWarning: get_items() is deprecated, use items() instead\n",
      "  warnings.warn(\n"
     ]
    },
    {
     "name": "stdout",
     "output_type": "stream",
     "text": [
      "\n",
      "###################################################\n",
      "Processing DEM for: merced_river_yosemite_at_pohono_bridge (17/26)\n",
      "Processing item: 1/1\n"
     ]
    },
    {
     "name": "stderr",
     "output_type": "stream",
     "text": [
      "/var/folders/ws/9hc4t42j3ls9vb_fw81ddmhw0000gn/T/ipykernel_84784/1227777575.py:87: RuntimeWarning: overflow encountered in square\n",
      "  slope_rad = np.arctan(np.sqrt(dz_dx**2 + dz_dy**2))\n",
      "/Users/jessicarapson/anaconda3/lib/python3.11/site-packages/pystac_client/item_search.py:835: FutureWarning: get_items() is deprecated, use items() instead\n",
      "  warnings.warn(\n"
     ]
    },
    {
     "name": "stdout",
     "output_type": "stream",
     "text": [
      "\n",
      "###################################################\n",
      "Processing DEM for: american_river_folsom_lake (18/26)\n",
      "Processing item: 1/4\n",
      "Processing item: 2/4\n",
      "Processing item: 3/4\n",
      "Processing item: 4/4\n"
     ]
    },
    {
     "name": "stderr",
     "output_type": "stream",
     "text": [
      "/var/folders/ws/9hc4t42j3ls9vb_fw81ddmhw0000gn/T/ipykernel_84784/1227777575.py:87: RuntimeWarning: overflow encountered in square\n",
      "  slope_rad = np.arctan(np.sqrt(dz_dx**2 + dz_dy**2))\n",
      "/Users/jessicarapson/anaconda3/lib/python3.11/site-packages/pystac_client/item_search.py:835: FutureWarning: get_items() is deprecated, use items() instead\n",
      "  warnings.warn(\n"
     ]
    },
    {
     "name": "stdout",
     "output_type": "stream",
     "text": [
      "\n",
      "###################################################\n",
      "Processing DEM for: colville_r_at_kettle_falls (19/26)\n",
      "Processing item: 1/4\n",
      "Processing item: 2/4\n",
      "Processing item: 3/4\n",
      "Processing item: 4/4\n"
     ]
    },
    {
     "name": "stderr",
     "output_type": "stream",
     "text": [
      "/var/folders/ws/9hc4t42j3ls9vb_fw81ddmhw0000gn/T/ipykernel_84784/1227777575.py:87: RuntimeWarning: overflow encountered in square\n",
      "  slope_rad = np.arctan(np.sqrt(dz_dx**2 + dz_dy**2))\n",
      "/Users/jessicarapson/anaconda3/lib/python3.11/site-packages/pystac_client/item_search.py:835: FutureWarning: get_items() is deprecated, use items() instead\n",
      "  warnings.warn(\n"
     ]
    },
    {
     "name": "stdout",
     "output_type": "stream",
     "text": [
      "\n",
      "###################################################\n",
      "Processing DEM for: stehekin_r_at_stehekin (20/26)\n",
      "Processing item: 1/2\n",
      "Processing item: 2/2\n"
     ]
    },
    {
     "name": "stderr",
     "output_type": "stream",
     "text": [
      "/var/folders/ws/9hc4t42j3ls9vb_fw81ddmhw0000gn/T/ipykernel_84784/1227777575.py:87: RuntimeWarning: overflow encountered in square\n",
      "  slope_rad = np.arctan(np.sqrt(dz_dx**2 + dz_dy**2))\n",
      "/Users/jessicarapson/anaconda3/lib/python3.11/site-packages/pystac_client/item_search.py:835: FutureWarning: get_items() is deprecated, use items() instead\n",
      "  warnings.warn(\n"
     ]
    },
    {
     "name": "stdout",
     "output_type": "stream",
     "text": [
      "\n",
      "###################################################\n",
      "Processing DEM for: detroit_lake_inflow (21/26)\n",
      "Processing item: 1/2\n",
      "Processing item: 2/2\n"
     ]
    },
    {
     "name": "stderr",
     "output_type": "stream",
     "text": [
      "/var/folders/ws/9hc4t42j3ls9vb_fw81ddmhw0000gn/T/ipykernel_84784/1227777575.py:87: RuntimeWarning: overflow encountered in square\n",
      "  slope_rad = np.arctan(np.sqrt(dz_dx**2 + dz_dy**2))\n",
      "/Users/jessicarapson/anaconda3/lib/python3.11/site-packages/pystac_client/item_search.py:835: FutureWarning: get_items() is deprecated, use items() instead\n",
      "  warnings.warn(\n"
     ]
    },
    {
     "name": "stdout",
     "output_type": "stream",
     "text": [
      "\n",
      "###################################################\n",
      "Processing DEM for: virgin_r_at_virtin (22/26)\n",
      "Processing item: 1/2\n",
      "Processing item: 2/2\n"
     ]
    },
    {
     "name": "stderr",
     "output_type": "stream",
     "text": [
      "/var/folders/ws/9hc4t42j3ls9vb_fw81ddmhw0000gn/T/ipykernel_84784/1227777575.py:87: RuntimeWarning: overflow encountered in square\n",
      "  slope_rad = np.arctan(np.sqrt(dz_dx**2 + dz_dy**2))\n",
      "/Users/jessicarapson/anaconda3/lib/python3.11/site-packages/pystac_client/item_search.py:835: FutureWarning: get_items() is deprecated, use items() instead\n",
      "  warnings.warn(\n"
     ]
    },
    {
     "name": "stdout",
     "output_type": "stream",
     "text": [
      "\n",
      "###################################################\n",
      "Processing DEM for: skagit_ross_reservoir (23/26)\n",
      "Processing item: 1/4\n",
      "Processing item: 2/4\n",
      "Processing item: 3/4\n",
      "Processing item: 4/4\n"
     ]
    },
    {
     "name": "stderr",
     "output_type": "stream",
     "text": [
      "/var/folders/ws/9hc4t42j3ls9vb_fw81ddmhw0000gn/T/ipykernel_84784/1227777575.py:87: RuntimeWarning: overflow encountered in square\n",
      "  slope_rad = np.arctan(np.sqrt(dz_dx**2 + dz_dy**2))\n",
      "/Users/jessicarapson/anaconda3/lib/python3.11/site-packages/pystac_client/item_search.py:835: FutureWarning: get_items() is deprecated, use items() instead\n",
      "  warnings.warn(\n"
     ]
    },
    {
     "name": "stdout",
     "output_type": "stream",
     "text": [
      "\n",
      "###################################################\n",
      "Processing DEM for: boysen_reservoir_inflow (24/26)\n",
      "Processing item: 1/8\n",
      "Processing item: 2/8\n",
      "Processing item: 3/8\n",
      "Processing item: 4/8\n",
      "Processing item: 5/8\n",
      "Processing item: 6/8\n",
      "Processing item: 7/8\n",
      "Processing item: 8/8\n"
     ]
    },
    {
     "name": "stderr",
     "output_type": "stream",
     "text": [
      "/var/folders/ws/9hc4t42j3ls9vb_fw81ddmhw0000gn/T/ipykernel_84784/1227777575.py:87: RuntimeWarning: overflow encountered in square\n",
      "  slope_rad = np.arctan(np.sqrt(dz_dx**2 + dz_dy**2))\n",
      "/Users/jessicarapson/anaconda3/lib/python3.11/site-packages/pystac_client/item_search.py:835: FutureWarning: get_items() is deprecated, use items() instead\n",
      "  warnings.warn(\n"
     ]
    },
    {
     "name": "stdout",
     "output_type": "stream",
     "text": [
      "\n",
      "###################################################\n",
      "Processing DEM for: pecos_r_nr_pecos (25/26)\n",
      "Processing item: 1/1\n"
     ]
    },
    {
     "name": "stderr",
     "output_type": "stream",
     "text": [
      "/var/folders/ws/9hc4t42j3ls9vb_fw81ddmhw0000gn/T/ipykernel_84784/1227777575.py:87: RuntimeWarning: overflow encountered in square\n",
      "  slope_rad = np.arctan(np.sqrt(dz_dx**2 + dz_dy**2))\n",
      "/Users/jessicarapson/anaconda3/lib/python3.11/site-packages/pystac_client/item_search.py:835: FutureWarning: get_items() is deprecated, use items() instead\n",
      "  warnings.warn(\n"
     ]
    },
    {
     "name": "stdout",
     "output_type": "stream",
     "text": [
      "\n",
      "###################################################\n",
      "Processing DEM for: owyhee_r_bl_owyhee_dam (26/26)\n",
      "Processing item: 1/12\n",
      "Processing item: 2/12\n",
      "Processing item: 3/12\n",
      "Processing item: 4/12\n",
      "Processing item: 5/12\n",
      "Processing item: 6/12\n",
      "Processing item: 7/12\n",
      "Processing item: 8/12\n",
      "Processing item: 9/12\n",
      "Processing item: 10/12\n",
      "Processing item: 11/12\n",
      "Processing item: 12/12\n",
      "\n",
      "###################################################\n"
     ]
    },
    {
     "name": "stderr",
     "output_type": "stream",
     "text": [
      "/var/folders/ws/9hc4t42j3ls9vb_fw81ddmhw0000gn/T/ipykernel_84784/1227777575.py:87: RuntimeWarning: overflow encountered in square\n",
      "  slope_rad = np.arctan(np.sqrt(dz_dx**2 + dz_dy**2))\n"
     ]
    }
   ],
   "source": [
    "# Call API\n",
    "catalog = pystac_client.Client.open(\n",
    "    \"https://planetarycomputer.microsoft.com/api/stac/v1\",\n",
    "    modifier=planetary_computer.sign_inplace,\n",
    ")\n",
    "\n",
    "# Load in site geospatial data\n",
    "gdf_sites = gpd.read_file('assets/data/geospatial.gpkg')\n",
    "\n",
    "# Initialize an empty list to store catchment bounding boxes\n",
    "site_bboxes = []\n",
    "\n",
    "# Iterate through each polygon (catchment) in the GeoDataFrame\n",
    "for index, row in gdf_sites.iterrows():\n",
    "    # Get the bounding box for each polygon\n",
    "    bbox = row.geometry.bounds  # Extract the bounding box as (minx, miny, maxx, maxy)\n",
    "    site_bboxes.append(bbox)  # Append the bounding box to the list\n",
    "    \n",
    "# Initialise dataframe to store extracted information\n",
    "df = pd.DataFrame(\n",
    "    {'site_id': gdf_sites['site_id'],'max_height': np.nan,'min_height': np.nan,\n",
    "     'mean_height': np.nan, 'med_height': np.nan, 'average_slope': np.nan,\n",
    "     'percent_over_1000': np.nan, 'percent_over_2000': np.nan,\n",
    "     'percent_diff_over_500': np.nan, 'percent_diff_over_1000': np.nan})\n",
    "\n",
    "# Loop through catchment polygons\n",
    "for i in range(0,len(gdf_sites)):\n",
    "    \n",
    "    # Load the catchment polygon\n",
    "    catchment_polygon = gdf_sites.geometry.iloc[i]\n",
    "    print(\"Processing DEM for:\", gdf_sites.iloc[i]['site_id'], f\"({i + 1}/{len(gdf_sites)})\")\n",
    "\n",
    "    # Select catchment bounding box\n",
    "    bbox = site_bboxes[i]\n",
    "\n",
    "    # Search using bounding box coordinates\n",
    "    search = catalog.search(\n",
    "        collections=[\"cop-dem-glo-30\"],\n",
    "        bbox=bbox,\n",
    "    )\n",
    "    items = list(search.items())\n",
    "\n",
    "    # Load and merge data into xarray\n",
    "    datasets = []\n",
    "    item_num = 0\n",
    "    for item in items:\n",
    "        item_num += 1\n",
    "        signed_asset = planetary_computer.sign(item.assets[\"data\"])\n",
    "        print(\"Processing item:\", f\"{item_num}/{len(items)}\")\n",
    "        data = (rioxarray.open_rasterio(signed_asset.href, masked=True, crs=gdf_sites.crs)\n",
    "               )\n",
    "        try:\n",
    "            # Clip data for each catchment polygon\n",
    "            data_clipped = data.rio.clip(gdf_sites.geometry.apply(mapping)[[i]], gdf_sites.crs)\n",
    "            datasets.append(data_clipped)\n",
    "        except rioxarray.exceptions.NoDataInBounds:\n",
    "            continue  # Skip to the next item if no data is found\n",
    "\n",
    "    # Merge the datasets using xarray\n",
    "    merged_data = xr.concat(datasets, dim='item_index').mean(dim='item_index')\n",
    "\n",
    "    # Extract mean, minimum, and average elevation for catchment\n",
    "    df.at[i,'max_height'] = np.nanmean(merged_data)\n",
    "    df.at[i,'min_height'] = np.nanmin(merged_data)\n",
    "    df.at[i,'mean_height'] = np.nanmean(merged_data)\n",
    "    df.at[i,'med_height'] = np.nanmedian(merged_data)\n",
    "    \n",
    "    # Calculate percent land above various thresholds\n",
    "    total_cells = np.sum(~np.isnan(merged_data.values))\n",
    "    df.at[i,'percent_over_1000'] = np.sum(merged_data.values > 1000) / total_cells\n",
    "    df.at[i,'percent_over_2000'] = np.sum(merged_data.values > 2000) / total_cells\n",
    "    df.at[i,'percent_diff_over_500'] = np.sum(\n",
    "        merged_data.values > df.at[i,'min_height'] + 500) / total_cells\n",
    "    df.at[i,'percent_diff_over_1000'] = np.sum(\n",
    "        merged_data.values > df.at[i,'min_height'] + 1000) / total_cells\n",
    "\n",
    "    # Compress data\n",
    "    compressed = (merged_data.squeeze()\n",
    "                  .squeeze()\n",
    "                  .drop(\"band\")\n",
    "                  .coarsen({\"y\": 5, \"x\": 5},boundary='pad')\n",
    "                  .mean()\n",
    "                 )\n",
    "\n",
    "    # Extract average slope for catchment\n",
    "    dz_dx, dz_dy = np.gradient(compressed.rio.reproject('EPSG:32610'))\n",
    "    slope_rad = np.arctan(np.sqrt(dz_dx**2 + dz_dy**2))\n",
    "    df.at[i,'average_slope'] = np.degrees(np.nanmean(slope_rad))\n",
    "\n",
    "    # Export clipped and compressed raster file\n",
    "    compressed.rio.to_raster('assets/data/dem/' + gdf_sites.iloc[i].site_id + '_dem.tif')\n",
    "    print('\\n###################################################')\n",
    "\n",
    "# Perform additional feature engineering\n",
    "df['catchment_area'] = gdf_sites.to_crs('EPSG:32610').geometry.area # In metres\n",
    "df['site_max_height_diff'] = df['max_height'] - df['min_height']\n",
    "\n",
    "# Export dataframe\n",
    "df.to_csv('assets/data/dem/dem_summary.csv')"
   ]
  },
  {
   "cell_type": "code",
   "execution_count": null,
   "id": "c05d9a14",
   "metadata": {},
   "outputs": [],
   "source": []
  }
 ],
 "metadata": {
  "kernelspec": {
   "display_name": "Python 3.11",
   "language": "python",
   "name": "python3.11"
  },
  "language_info": {
   "codemirror_mode": {
    "name": "ipython",
    "version": 3
   },
   "file_extension": ".py",
   "mimetype": "text/x-python",
   "name": "python",
   "nbconvert_exporter": "python",
   "pygments_lexer": "ipython3",
   "version": "3.11.6"
  }
 },
 "nbformat": 4,
 "nbformat_minor": 5
}
