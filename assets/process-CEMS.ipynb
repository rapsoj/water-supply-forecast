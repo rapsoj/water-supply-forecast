{
 "cells": [
  {
   "cell_type": "code",
   "execution_count": null,
   "metadata": {},
   "outputs": [],
   "source": [
    "# Import system libraries\n",
    "import os\n",
    "import sys\n",
    "\n",
    "# Import data manipulation libraries\n",
    "import pandas as pd\n",
    "from shapely.geometry import Polygon\n",
    "\n",
    "# Import geospatial libraries\n",
    "import geopandas as gpd\n",
    "import pygrib\n",
    "\n",
    "# Import API library\n",
    "import cdsapi # cds api client can be pip installed"
   ]
  },
  {
   "cell_type": "markdown",
   "metadata": {},
   "source": [
    "# Data request from API \n",
    "Use the cdsapi client to retrieve data in GRIB format from CEMS. \n",
    "\n",
    "Note, requires API key in config folder in the file $HOME/.cdsapirc. See https://cds.climate.copernicus.eu/api-how-to. Mine is included in the conda environment."
   ]
  },
  {
   "cell_type": "code",
   "execution_count": null,
   "metadata": {},
   "outputs": [],
   "source": [
    "c = cdsapi.Client()\n",
    "c.retrieve(\n",
    "    'cems-fire-seasonal',\n",
    "    {\n",
    "        'format': 'grib',\n",
    "        'variable': 'fire_weather_index',\n",
    "        'release_version': '5',\n",
    "        'year': [\n",
    "            '1981', '1982', '1983',\n",
    "            '1984', '1985', '1986',\n",
    "            '1987', '1988', '1989',\n",
    "            '1990', '1991', '1992',\n",
    "            '1993', '1994', '1995',\n",
    "            '1996', '1997', '1998',\n",
    "            '1999', '2000', '2001',\n",
    "            '2002', '2003', '2004',\n",
    "            '2005', '2006', '2007',\n",
    "            '2008', '2009', '2010',\n",
    "            '2011', '2012', '2013',\n",
    "            '2014', '2015', '2016',\n",
    "            '2017', '2018', '2019',\n",
    "            '2020', '2021', '2022',\n",
    "            '2023',\n",
    "        ],\n",
    "        'month': [\n",
    "            '01', '02', '03',\n",
    "            '04', '05', '06',\n",
    "            '07', '08', '09',\n",
    "            '10', '11', '12',\n",
    "        ],\n",
    "        'day': '01',\n",
    "        'leadtime_hour': '12',\n",
    "        'area': [\n",
    "            89.95, -179.95, -89.95,\n",
    "            179.95,\n",
    "        ],\n",
    "    },\n",
    "    'download.grib')"
   ]
  },
  {
   "cell_type": "code",
   "execution_count": null,
   "metadata": {},
   "outputs": [],
   "source": [
    "# Following code should repat the above for other leads. \n",
    "# They are equal to 12 + 24*n, so 12, 36, 60..."
   ]
  },
  {
   "cell_type": "markdown",
   "metadata": {},
   "source": [
    "# Clean and merge the downloaded GRIB files\n"
   ]
  },
  {
   "cell_type": "code",
   "execution_count": null,
   "metadata": {},
   "outputs": [],
   "source": [
    "# Open the GRIB file\n",
    "grib_file = 'assets\\data\\CEMS_indicators\\download.grib'\n",
    "grbs = pygrib.open(grib_file)\n",
    "\n",
    "# Read the geospatial data from the GRIB file\n",
    "gdf_list = []\n",
    "for grb in grbs:\n",
    "    grb_data = grb.values\n",
    "    lats, lons = grb.latlons()\n",
    "    \n",
    "    # Create a GeoDataFrame with the geospatial data\n",
    "    geometry = [shapely.geometry.Point(lon, lat) for lat, lon in zip(lats.flatten(), lons.flatten())]\n",
    "    gdf = gpd.GeoDataFrame(geometry=geometry, data=grb_data.flatten(), columns=['data'])\n",
    "    \n",
    "    gdf_list.append(gdf)\n",
    "\n",
    "# Close the GRIB file\n",
    "grbs.close()\n",
    "\n",
    "# Concatenate GeoDataFrames\n",
    "gdf = gpd.concat(gdf_list)\n",
    "\n",
    "# Now, gdf is a GeoDataFrame containing geospatial data from the GRIB file"
   ]
  }
 ],
 "metadata": {
  "language_info": {
   "name": "python"
  }
 },
 "nbformat": 4,
 "nbformat_minor": 2
}
