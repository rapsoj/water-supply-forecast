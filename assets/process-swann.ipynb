{
 "cells": [
  {
   "cell_type": "markdown",
   "id": "7bb04ef3",
   "metadata": {},
   "source": [
    "# Process SWANN"
   ]
  },
  {
   "cell_type": "markdown",
   "id": "2afb118d",
   "metadata": {},
   "source": [
    "### Prepare Workspace"
   ]
  },
  {
   "cell_type": "code",
   "execution_count": 1,
   "id": "b8621b39",
   "metadata": {},
   "outputs": [],
   "source": [
    "# Import system libraries\n",
    "import os\n",
    "import sys\n",
    "\n",
    "# Import data manipulation libraries\n",
    "import pandas as pd\n",
    "import numpy as np\n",
    "import datetime\n",
    "\n",
    "# Set working directory\n",
    "os.chdir('/Users/jessicarapson/Documents/GitHub/water-supply-forecast')"
   ]
  },
  {
   "cell_type": "markdown",
   "id": "4fcc6248",
   "metadata": {},
   "source": [
    "### Download Data from Files"
   ]
  },
  {
   "cell_type": "code",
   "execution_count": 9,
   "id": "263f1991",
   "metadata": {},
   "outputs": [],
   "source": [
    "# Download data\n",
    "swe_volumes = pd.read_csv('assets/data/swann/swann_swe.csv')\n",
    "\n",
    "# Filter to years of interest\n",
    "swe_volumes_week = swe_volumes.copy()\n",
    "swe_volumes_week['date'] = pd.to_datetime(swe_volumes['time']).dt.date\n",
    "swe_volumes_week = swe_volumes_week[pd.to_datetime(\n",
    "    swe_volumes_week['date']) >= pd.Timestamp(\"1985-01-01\")]\n",
    "\n",
    "# Define start and end dates\n",
    "start_date = datetime.date(1985, 1, 1)\n",
    "end_date = datetime.date(2024, 1, 1)\n",
    "\n",
    "# Initialize an empty list to store weeks\n",
    "week_list = []\n",
    "\n",
    "# Generate weeks between start_date and end_date\n",
    "current_date = start_date\n",
    "while current_date < end_date:\n",
    "    for day in [1, 8, 15, 22]:\n",
    "        week = current_date + datetime.timedelta(days=(day - current_date.weekday() - 1))\n",
    "        if week < end_date:\n",
    "            week_list.append(week.strftime('%Y-%m-%d'))\n",
    "    current_date += datetime.timedelta(days=7)\n",
    "    \n",
    "# Function to round down the day to the nearest value less than or equal to the day\n",
    "def round_day_down(date):\n",
    "    day = date.day\n",
    "    nearest_values = [1, 8, 15, 22]\n",
    "\n",
    "    # Find the nearest value less than or equal to the day\n",
    "    rounded_day = max(filter(lambda x: x <= day, nearest_values))\n",
    "    return date.replace(day=rounded_day)\n",
    "\n",
    " # Create a new column 'Rounded_Day_Column' based on 'Date_Column'\n",
    "swe_volumes_week['week_start_date'] = swe_volumes_week['date'].apply(round_day_down)\n",
    "swe_volumes_week = swe_volumes_week.drop(['date', 'time'], axis=1)\n",
    "\n",
    "# Aggregate by week\n",
    "swe_volumes_week = swe_volumes_week.groupby(\n",
    "    ['site_id','week_start_date']).mean().reset_index()"
   ]
  },
  {
   "cell_type": "code",
   "execution_count": 11,
   "id": "b79b2eae",
   "metadata": {},
   "outputs": [],
   "source": [
    "swe_volumes_week.to_csv('swann_swe_week.csv')"
   ]
  },
  {
   "cell_type": "code",
   "execution_count": null,
   "id": "1560361a",
   "metadata": {},
   "outputs": [],
   "source": []
  }
 ],
 "metadata": {
  "kernelspec": {
   "display_name": "Python 3.11",
   "language": "python",
   "name": "python3.11"
  },
  "language_info": {
   "codemirror_mode": {
    "name": "ipython",
    "version": 3
   },
   "file_extension": ".py",
   "mimetype": "text/x-python",
   "name": "python",
   "nbconvert_exporter": "python",
   "pygments_lexer": "ipython3",
   "version": "3.11.6"
  }
 },
 "nbformat": 4,
 "nbformat_minor": 5
}
