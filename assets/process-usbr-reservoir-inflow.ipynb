{
 "cells": [
  {
   "cell_type": "markdown",
   "id": "c01cba26",
   "metadata": {},
   "source": [
    "# Process USBR Reservoir Inflow"
   ]
  },
  {
   "cell_type": "markdown",
   "id": "602a9d2e",
   "metadata": {},
   "source": [
    "### Prepare Workspace"
   ]
  },
  {
   "cell_type": "code",
   "execution_count": 1,
   "id": "9f382b28",
   "metadata": {},
   "outputs": [],
   "source": [
    "# Import system libraries\n",
    "import os\n",
    "import sys\n",
    "\n",
    "# Import data manipulation libraries\n",
    "import pandas as pd\n",
    "import numpy as np\n",
    "\n",
    "# Import API libraries\n",
    "import requests\n",
    "import csv\n",
    "\n",
    "# Set working directory\n",
    "os.chdir('/Users/jessicarapson/Documents/GitHub/water-supply-forecast')"
   ]
  },
  {
   "cell_type": "markdown",
   "id": "658e7a59",
   "metadata": {},
   "source": [
    "### Load Data from Folders"
   ]
  },
  {
   "cell_type": "code",
   "execution_count": 15,
   "id": "51f9030b",
   "metadata": {},
   "outputs": [
    {
     "ename": "NameError",
     "evalue": "name 'result' is not defined",
     "output_type": "error",
     "traceback": [
      "\u001b[0;31m---------------------------------------------------------------------------\u001b[0m",
      "\u001b[0;31mNameError\u001b[0m                                 Traceback (most recent call last)",
      "\u001b[0;32m/var/folders/ws/9hc4t42j3ls9vb_fw81ddmhw0000gn/T/ipykernel_3095/4011888471.py\u001b[0m in \u001b[0;36m<module>\u001b[0;34m\u001b[0m\n\u001b[1;32m     29\u001b[0m \u001b[0;34m\u001b[0m\u001b[0m\n\u001b[1;32m     30\u001b[0m \u001b[0;31m# Perform additional cleaning\u001b[0m\u001b[0;34m\u001b[0m\u001b[0;34m\u001b[0m\u001b[0m\n\u001b[0;32m---> 31\u001b[0;31m \u001b[0mresult\u001b[0m\u001b[0;34m[\u001b[0m\u001b[0;34m'date'\u001b[0m\u001b[0;34m]\u001b[0m \u001b[0;34m=\u001b[0m \u001b[0mpd\u001b[0m\u001b[0;34m.\u001b[0m\u001b[0mto_datetime\u001b[0m\u001b[0;34m(\u001b[0m\u001b[0mresult\u001b[0m\u001b[0;34m[\u001b[0m\u001b[0;34m'datetime'\u001b[0m\u001b[0;34m]\u001b[0m\u001b[0;34m)\u001b[0m\u001b[0;34m\u001b[0m\u001b[0;34m\u001b[0m\u001b[0m\n\u001b[0m\u001b[1;32m     32\u001b[0m \u001b[0;34m\u001b[0m\u001b[0m\n\u001b[1;32m     33\u001b[0m \u001b[0;31m# Export data\u001b[0m\u001b[0;34m\u001b[0m\u001b[0;34m\u001b[0m\u001b[0m\n",
      "\u001b[0;31mNameError\u001b[0m: name 'result' is not defined"
     ]
    }
   ],
   "source": [
    "metadata = pd.read_csv(\"./assets/data/metadata.csv\")\n",
    "\n",
    "# Create empty list\n",
    "usbr_all = []\n",
    "\n",
    "# Loop through years\n",
    "#for year in range(1985, 2025):\n",
    "year = 2020\n",
    "\n",
    "# Loop through forecasting sites\n",
    "#for site in metadata['site_id']:\n",
    "site = \"hungry_horse_reservoir_inflow\"\n",
    "file_path = f\"./assets/data/usgs_streamflow/FY{year}/{site}.csv\"\n",
    "\n",
    "#  # Check if the file exists for the station\n",
    "# if not os.path.exists(file_path):\n",
    "#     print(f\"File not found for site {site}. Skipping...\")\n",
    "#     continue\n",
    "    \n",
    "# Read in daily flow data for the selected year\n",
    "flow_data = pd.read_csv(file_path)\n",
    "flow_data['site_id'] = site\n",
    "\n",
    "# Select data of interest\n",
    "flow_data = flow_data[['site_id', 'datetime', '00060_Mean']]\n",
    "\n",
    "# Combine data\n",
    "result = pd.concat(usbr_all, axis=0, ignore_index=True)\n",
    "\n",
    "# Perform additional cleaning\n",
    "result['date'] = pd.to_datetime(flow_data['datetime']).dt.date\n",
    "\n",
    "# Export data\n",
    "result.to_csv('./assets/data/usgs_streamflow/cdec.csv', index=False)"
   ]
  },
  {
   "cell_type": "code",
   "execution_count": 19,
   "id": "25bda1a7",
   "metadata": {},
   "outputs": [
    {
     "data": {
      "text/html": [
       "<div>\n",
       "<style scoped>\n",
       "    .dataframe tbody tr th:only-of-type {\n",
       "        vertical-align: middle;\n",
       "    }\n",
       "\n",
       "    .dataframe tbody tr th {\n",
       "        vertical-align: top;\n",
       "    }\n",
       "\n",
       "    .dataframe thead th {\n",
       "        text-align: right;\n",
       "    }\n",
       "</style>\n",
       "<table border=\"1\" class=\"dataframe\">\n",
       "  <thead>\n",
       "    <tr style=\"text-align: right;\">\n",
       "      <th></th>\n",
       "      <th>site_id</th>\n",
       "      <th>datetime</th>\n",
       "      <th>00060_Mean</th>\n",
       "    </tr>\n",
       "  </thead>\n",
       "  <tbody>\n",
       "    <tr>\n",
       "      <th>0</th>\n",
       "      <td>hungry_horse_reservoir_inflow</td>\n",
       "      <td>2019-10-01 00:00:00+00:00</td>\n",
       "      <td>2470.0</td>\n",
       "    </tr>\n",
       "    <tr>\n",
       "      <th>1</th>\n",
       "      <td>hungry_horse_reservoir_inflow</td>\n",
       "      <td>2019-10-02 00:00:00+00:00</td>\n",
       "      <td>2150.0</td>\n",
       "    </tr>\n",
       "    <tr>\n",
       "      <th>2</th>\n",
       "      <td>hungry_horse_reservoir_inflow</td>\n",
       "      <td>2019-10-03 00:00:00+00:00</td>\n",
       "      <td>1930.0</td>\n",
       "    </tr>\n",
       "    <tr>\n",
       "      <th>3</th>\n",
       "      <td>hungry_horse_reservoir_inflow</td>\n",
       "      <td>2019-10-04 00:00:00+00:00</td>\n",
       "      <td>1840.0</td>\n",
       "    </tr>\n",
       "    <tr>\n",
       "      <th>4</th>\n",
       "      <td>hungry_horse_reservoir_inflow</td>\n",
       "      <td>2019-10-05 00:00:00+00:00</td>\n",
       "      <td>1840.0</td>\n",
       "    </tr>\n",
       "    <tr>\n",
       "      <th>...</th>\n",
       "      <td>...</td>\n",
       "      <td>...</td>\n",
       "      <td>...</td>\n",
       "    </tr>\n",
       "    <tr>\n",
       "      <th>290</th>\n",
       "      <td>hungry_horse_reservoir_inflow</td>\n",
       "      <td>2020-07-17 00:00:00+00:00</td>\n",
       "      <td>2950.0</td>\n",
       "    </tr>\n",
       "    <tr>\n",
       "      <th>291</th>\n",
       "      <td>hungry_horse_reservoir_inflow</td>\n",
       "      <td>2020-07-18 00:00:00+00:00</td>\n",
       "      <td>3000.0</td>\n",
       "    </tr>\n",
       "    <tr>\n",
       "      <th>292</th>\n",
       "      <td>hungry_horse_reservoir_inflow</td>\n",
       "      <td>2020-07-19 00:00:00+00:00</td>\n",
       "      <td>3000.0</td>\n",
       "    </tr>\n",
       "    <tr>\n",
       "      <th>293</th>\n",
       "      <td>hungry_horse_reservoir_inflow</td>\n",
       "      <td>2020-07-20 00:00:00+00:00</td>\n",
       "      <td>2990.0</td>\n",
       "    </tr>\n",
       "    <tr>\n",
       "      <th>294</th>\n",
       "      <td>hungry_horse_reservoir_inflow</td>\n",
       "      <td>2020-07-21 00:00:00+00:00</td>\n",
       "      <td>2980.0</td>\n",
       "    </tr>\n",
       "  </tbody>\n",
       "</table>\n",
       "<p>295 rows × 3 columns</p>\n",
       "</div>"
      ],
      "text/plain": [
       "                           site_id                   datetime  00060_Mean\n",
       "0    hungry_horse_reservoir_inflow  2019-10-01 00:00:00+00:00      2470.0\n",
       "1    hungry_horse_reservoir_inflow  2019-10-02 00:00:00+00:00      2150.0\n",
       "2    hungry_horse_reservoir_inflow  2019-10-03 00:00:00+00:00      1930.0\n",
       "3    hungry_horse_reservoir_inflow  2019-10-04 00:00:00+00:00      1840.0\n",
       "4    hungry_horse_reservoir_inflow  2019-10-05 00:00:00+00:00      1840.0\n",
       "..                             ...                        ...         ...\n",
       "290  hungry_horse_reservoir_inflow  2020-07-17 00:00:00+00:00      2950.0\n",
       "291  hungry_horse_reservoir_inflow  2020-07-18 00:00:00+00:00      3000.0\n",
       "292  hungry_horse_reservoir_inflow  2020-07-19 00:00:00+00:00      3000.0\n",
       "293  hungry_horse_reservoir_inflow  2020-07-20 00:00:00+00:00      2990.0\n",
       "294  hungry_horse_reservoir_inflow  2020-07-21 00:00:00+00:00      2980.0\n",
       "\n",
       "[295 rows x 3 columns]"
      ]
     },
     "execution_count": 19,
     "metadata": {},
     "output_type": "execute_result"
    }
   ],
   "source": [
    "flow_data"
   ]
  },
  {
   "cell_type": "code",
   "execution_count": 18,
   "id": "492922d6",
   "metadata": {},
   "outputs": [
    {
     "data": {
      "text/plain": [
       "0      2019-10-01\n",
       "1      2019-10-02\n",
       "2      2019-10-03\n",
       "3      2019-10-04\n",
       "4      2019-10-05\n",
       "          ...    \n",
       "290    2020-07-17\n",
       "291    2020-07-18\n",
       "292    2020-07-19\n",
       "293    2020-07-20\n",
       "294    2020-07-21\n",
       "Name: datetime, Length: 295, dtype: object"
      ]
     },
     "execution_count": 18,
     "metadata": {},
     "output_type": "execute_result"
    }
   ],
   "source": []
  },
  {
   "cell_type": "code",
   "execution_count": null,
   "id": "89b8af02",
   "metadata": {},
   "outputs": [],
   "source": []
  }
 ],
 "metadata": {
  "kernelspec": {
   "display_name": "Python 3 (ipykernel)",
   "language": "python",
   "name": "python3"
  },
  "language_info": {
   "codemirror_mode": {
    "name": "ipython",
    "version": 3
   },
   "file_extension": ".py",
   "mimetype": "text/x-python",
   "name": "python",
   "nbconvert_exporter": "python",
   "pygments_lexer": "ipython3",
   "version": "3.9.7"
  }
 },
 "nbformat": 4,
 "nbformat_minor": 5
}
