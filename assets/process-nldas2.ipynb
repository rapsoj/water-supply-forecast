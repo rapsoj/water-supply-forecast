{
 "cells": [
  {
   "cell_type": "code",
   "execution_count": null,
   "metadata": {},
   "outputs": [],
   "source": [
    "# Import system libraries\n",
    "import os\n",
    "import sys\n",
    "\n",
    "# Import data manipulation libraries\n",
    "import pandas as pd\n",
    "from shapely.geometry import Polygon\n",
    "\n",
    "# Import geospatial libraries\n",
    "import geopandas as gpd\n",
    "import pynldas2 as nldas\n",
    "from pygeohydro import WBD"
   ]
  },
  {
   "cell_type": "markdown",
   "metadata": {},
   "source": [
    "# Hourly data\n",
    "Need to correct geometry line to get only the required data."
   ]
  },
  {
   "cell_type": "code",
   "execution_count": null,
   "metadata": {},
   "outputs": [],
   "source": [
    "grid = nldas.get_grid_mask()\n",
    "huc8 = WBD(\"huc8\")\n",
    "geometry = huc8.byids(\"huc8\", \"13060003\").geometry[0]\n",
    "# clm = nldas.get_bygeom(geometry, \"1979-01-01\", \"2023-02-01\", 4326)"
   ]
  }
 ],
 "metadata": {
  "language_info": {
   "name": "python"
  }
 },
 "nbformat": 4,
 "nbformat_minor": 2
}
