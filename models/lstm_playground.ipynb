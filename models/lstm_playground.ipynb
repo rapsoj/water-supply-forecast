{
 "cells": [
  {
   "cell_type": "markdown",
   "source": [
    "Imports:"
   ],
   "metadata": {
    "collapsed": false
   }
  },
  {
   "cell_type": "code",
   "execution_count": 2,
   "outputs": [],
   "source": [
    "import pickle\n",
    "\n",
    "import pandas as pd\n",
    "import torch\n",
    "from torch import nn, optim\n",
    "from torch.nn.utils.rnn import pack_padded_sequence, pad_packed_sequence, pad_sequence\n",
    "from torch.utils.data import DataLoader, Dataset\n",
    "\n",
    "from consts import JULY"
   ],
   "metadata": {
    "collapsed": false,
    "ExecuteTime": {
     "end_time": "2023-12-17T16:03:49.609738Z",
     "start_time": "2023-12-17T16:03:30.722552Z"
    }
   }
  },
  {
   "cell_type": "markdown",
   "source": [
    "Data loading:"
   ],
   "metadata": {
    "collapsed": false
   }
  },
  {
   "cell_type": "code",
   "execution_count": 3,
   "outputs": [],
   "source": [
    "with open('playground_input.pkl', 'rb') as f:\n",
    "    data = pickle.load(f)\n",
    "\n",
    "X, y = data['train']\n",
    "val_X, val_y = data['val']"
   ],
   "metadata": {
    "collapsed": false,
    "ExecuteTime": {
     "end_time": "2023-12-17T16:03:56.906282Z",
     "start_time": "2023-12-17T16:03:56.893705Z"
    }
   }
  },
  {
   "cell_type": "markdown",
   "source": [
    "The fun stuff:"
   ],
   "metadata": {
    "collapsed": false
   }
  },
  {
   "cell_type": "code",
   "execution_count": 4,
   "metadata": {
    "collapsed": true,
    "ExecuteTime": {
     "end_time": "2023-12-17T16:04:02.434391Z",
     "start_time": "2023-12-17T16:04:02.432167Z"
    }
   },
   "outputs": [],
   "source": [
    "class SequenceDataset(Dataset):\n",
    "    def __init__(self, X, y):\n",
    "        self.X = X\n",
    "        self.y = y\n",
    "\n",
    "    def __len__(self):\n",
    "        return len(self.y)\n",
    "\n",
    "    def __getitem__(self, idx):\n",
    "        # Create sequence from rows 0 to idx\n",
    "        sequence = self.X.iloc[:idx + 1].values\n",
    "        label = self.y.iloc[idx]\n",
    "        return torch.tensor(sequence, dtype=torch.float32), torch.tensor(label, dtype=torch.float32)\n"
   ]
  },
  {
   "cell_type": "code",
   "execution_count": 5,
   "outputs": [],
   "source": [
    "class LSTMModel(nn.Module):\n",
    "    def __init__(self, input_size, hidden_size=64, num_layers=2, output_size=1):\n",
    "        super(LSTMModel, self).__init__()\n",
    "        self.lstm = nn.LSTM(input_size, hidden_size, num_layers, batch_first=True)\n",
    "        self.fc = nn.Linear(hidden_size, output_size)\n",
    "\n",
    "    def forward(self, x, lengths):\n",
    "        # Pack the padded sequences\n",
    "        x_packed = pack_padded_sequence(x, lengths, batch_first=True)\n",
    "        out_packed, _ = self.lstm(x_packed)\n",
    "        out_padded, _ = pad_packed_sequence(out_packed, batch_first=True)\n",
    "        # Apply the linear layer to the unpacked outputs\n",
    "        out = self.fc(out_padded)\n",
    "        return out[:, -1, :]  # Return the outputs for the last time step\n"
   ],
   "metadata": {
    "collapsed": false,
    "ExecuteTime": {
     "end_time": "2023-12-17T16:04:03.284777Z",
     "start_time": "2023-12-17T16:04:03.281361Z"
    }
   }
  },
  {
   "cell_type": "code",
   "execution_count": 6,
   "outputs": [],
   "source": [
    "def pad_collate_fn(batch):\n",
    "    # Sort the batch by sequence length in descending order\n",
    "    batch.sort(key=lambda x: len(x[0]), reverse=True)\n",
    "    sequences, labels = zip(*batch)\n",
    "    # Pad the sequences and stack the labels\n",
    "    padded_sequences = pad_sequence(sequences, batch_first=True)\n",
    "    lengths = [len(seq) for seq in sequences]\n",
    "    labels = torch.stack(labels)\n",
    "    return padded_sequences, labels, lengths\n"
   ],
   "metadata": {
    "collapsed": false,
    "ExecuteTime": {
     "end_time": "2023-12-17T16:04:04.020780Z",
     "start_time": "2023-12-17T16:04:04.015147Z"
    }
   }
  },
  {
   "cell_type": "code",
   "execution_count": 7,
   "outputs": [],
   "source": [
    "def features2seqs(X: pd.DataFrame, y: pd.Series, train: bool = True):\n",
    "    X = X[X.date.dt.month <= JULY].drop(columns=['date', 'forecast_year'])\n",
    "    if train:\n",
    "        return SequenceDataset(X, y)\n",
    "\n",
    "    raise NotImplementedError"
   ],
   "metadata": {
    "collapsed": false,
    "ExecuteTime": {
     "end_time": "2023-12-17T16:04:04.865403Z",
     "start_time": "2023-12-17T16:04:04.858881Z"
    }
   }
  },
  {
   "cell_type": "code",
   "execution_count": 8,
   "outputs": [],
   "source": [
    "bs = 1\n",
    "lr = 1e-3"
   ],
   "metadata": {
    "collapsed": false,
    "ExecuteTime": {
     "end_time": "2023-12-17T16:04:05.439711Z",
     "start_time": "2023-12-17T16:04:05.425613Z"
    }
   }
  },
  {
   "cell_type": "code",
   "execution_count": 17,
   "outputs": [
    {
     "name": "stdout",
     "output_type": "stream",
     "text": [
      "    oniANOM  oniTOTAL  max_height  min_height    mjo70E  SWE_volume_m3  \\\n",
      "0 -0.431542 -0.757515    0.953922   -1.469843 -0.015647      -0.475147   \n",
      "1 -0.417864 -0.755120    0.953922   -1.469843  0.403282      -0.463321   \n",
      "2 -0.404186 -0.752724    0.953922   -1.469843  0.914172      -0.441605   \n",
      "3 -0.383008 -0.738815    0.953922   -1.469843  0.331758      -0.430791   \n",
      "\n",
      "   percent_diff_over_1000    soi_sd  catchment_area  site_max_height_diff  \\\n",
      "0                1.998899 -0.168304       -0.353614               3.11618   \n",
      "1                1.998899 -0.168304       -0.353614               3.11618   \n",
      "2                1.998899 -0.168304       -0.353614               3.11618   \n",
      "3                1.998899 -0.580843       -0.353614               3.11618   \n",
      "\n",
      "   ...   mjo100E  med_height  percent_over_1000  ninoNINO3  ninoANOM.2  \\\n",
      "0  ... -0.498965    0.140599          -0.359338  -1.674633   -0.743506   \n",
      "1  ... -0.801460    0.140599          -0.359338  -1.674633   -0.743506   \n",
      "2  ... -0.539297    0.140599          -0.359338  -1.674633   -0.743506   \n",
      "3  ...  1.426922    0.140599          -0.359338  -1.619507   -0.698792   \n",
      "\n",
      "   ninoANOM.3  ninoNINO4       date  forecast_year      time  \n",
      "0   -0.788176  -0.443935 1985-10-01           1986  0.914025  \n",
      "1   -0.788176  -0.443935 1985-10-08           1986  0.980492  \n",
      "2   -0.788176  -0.443935 1985-10-15           1986  1.046958  \n",
      "3   -0.753663  -0.402135 1985-10-22           1986  1.113424  \n",
      "\n",
      "[4 rows x 40 columns]\n"
     ]
    }
   ],
   "source": [
    "train_set = features2seqs(X.iloc[:4], y.iloc[:4]) # todo see we can overfit to a small training set before continuing\n",
    "combined_X = pd.concat([X, val_X])\n",
    "combined_y = pd.concat([y, val_y])\n",
    "combined_set = features2seqs(combined_X, combined_y)\n",
    "\n",
    "dataloader = DataLoader(train_set, batch_size=bs, shuffle=True, collate_fn=pad_collate_fn)\n",
    "\n",
    "n_feats = train_set[0][0].shape[1]\n",
    "model = LSTMModel(input_size=n_feats)"
   ],
   "metadata": {
    "collapsed": false,
    "ExecuteTime": {
     "end_time": "2023-12-17T16:11:54.860087Z",
     "start_time": "2023-12-17T16:11:54.849630Z"
    }
   }
  },
  {
   "cell_type": "code",
   "execution_count": 10,
   "outputs": [],
   "source": [
    "optimizer = optim.Adam(model.parameters(), lr=lr)\n",
    "criterion = nn.MSELoss() # todo implement AQM loss, requires multioutput (use dummy std for starters)"
   ],
   "metadata": {
    "collapsed": false,
    "ExecuteTime": {
     "end_time": "2023-12-17T16:04:07.818824Z",
     "start_time": "2023-12-17T16:04:07.410923Z"
    }
   }
  },
  {
   "cell_type": "code",
   "execution_count": 14,
   "outputs": [
    {
     "name": "stdout",
     "output_type": "stream",
     "text": [
      "tensor([], size=(1, 0, 38))\n",
      "tensor([-0.0326])\n",
      "[0]\n"
     ]
    },
    {
     "ename": "RuntimeError",
     "evalue": "Cannot pack empty tensors.",
     "output_type": "error",
     "traceback": [
      "\u001B[0;31m---------------------------------------------------------------------------\u001B[0m",
      "\u001B[0;31mRuntimeError\u001B[0m                              Traceback (most recent call last)",
      "Cell \u001B[0;32mIn[14], line 8\u001B[0m\n\u001B[1;32m      6\u001B[0m \u001B[38;5;28mprint\u001B[39m(labels)\n\u001B[1;32m      7\u001B[0m \u001B[38;5;28mprint\u001B[39m(lengths)\n\u001B[0;32m----> 8\u001B[0m outputs \u001B[38;5;241m=\u001B[39m \u001B[43mmodel\u001B[49m\u001B[43m(\u001B[49m\u001B[43msequences\u001B[49m\u001B[43m,\u001B[49m\u001B[43m \u001B[49m\u001B[43mlengths\u001B[49m\u001B[43m)\u001B[49m\n\u001B[1;32m      9\u001B[0m outputs \u001B[38;5;241m=\u001B[39m outputs\u001B[38;5;241m.\u001B[39msqueeze() \u001B[38;5;66;03m# todo remove/change when using a multioutput\u001B[39;00m\n\u001B[1;32m     10\u001B[0m \u001B[38;5;66;03m# Ensure labels are also squeezed to match output shape\u001B[39;00m\n",
      "File \u001B[0;32m~/opt/anaconda3/envs/water_supply_forecast/lib/python3.11/site-packages/torch/nn/modules/module.py:1518\u001B[0m, in \u001B[0;36mModule._wrapped_call_impl\u001B[0;34m(self, *args, **kwargs)\u001B[0m\n\u001B[1;32m   1516\u001B[0m     \u001B[38;5;28;01mreturn\u001B[39;00m \u001B[38;5;28mself\u001B[39m\u001B[38;5;241m.\u001B[39m_compiled_call_impl(\u001B[38;5;241m*\u001B[39margs, \u001B[38;5;241m*\u001B[39m\u001B[38;5;241m*\u001B[39mkwargs)  \u001B[38;5;66;03m# type: ignore[misc]\u001B[39;00m\n\u001B[1;32m   1517\u001B[0m \u001B[38;5;28;01melse\u001B[39;00m:\n\u001B[0;32m-> 1518\u001B[0m     \u001B[38;5;28;01mreturn\u001B[39;00m \u001B[38;5;28;43mself\u001B[39;49m\u001B[38;5;241;43m.\u001B[39;49m\u001B[43m_call_impl\u001B[49m\u001B[43m(\u001B[49m\u001B[38;5;241;43m*\u001B[39;49m\u001B[43margs\u001B[49m\u001B[43m,\u001B[49m\u001B[43m \u001B[49m\u001B[38;5;241;43m*\u001B[39;49m\u001B[38;5;241;43m*\u001B[39;49m\u001B[43mkwargs\u001B[49m\u001B[43m)\u001B[49m\n",
      "File \u001B[0;32m~/opt/anaconda3/envs/water_supply_forecast/lib/python3.11/site-packages/torch/nn/modules/module.py:1527\u001B[0m, in \u001B[0;36mModule._call_impl\u001B[0;34m(self, *args, **kwargs)\u001B[0m\n\u001B[1;32m   1522\u001B[0m \u001B[38;5;66;03m# If we don't have any hooks, we want to skip the rest of the logic in\u001B[39;00m\n\u001B[1;32m   1523\u001B[0m \u001B[38;5;66;03m# this function, and just call forward.\u001B[39;00m\n\u001B[1;32m   1524\u001B[0m \u001B[38;5;28;01mif\u001B[39;00m \u001B[38;5;129;01mnot\u001B[39;00m (\u001B[38;5;28mself\u001B[39m\u001B[38;5;241m.\u001B[39m_backward_hooks \u001B[38;5;129;01mor\u001B[39;00m \u001B[38;5;28mself\u001B[39m\u001B[38;5;241m.\u001B[39m_backward_pre_hooks \u001B[38;5;129;01mor\u001B[39;00m \u001B[38;5;28mself\u001B[39m\u001B[38;5;241m.\u001B[39m_forward_hooks \u001B[38;5;129;01mor\u001B[39;00m \u001B[38;5;28mself\u001B[39m\u001B[38;5;241m.\u001B[39m_forward_pre_hooks\n\u001B[1;32m   1525\u001B[0m         \u001B[38;5;129;01mor\u001B[39;00m _global_backward_pre_hooks \u001B[38;5;129;01mor\u001B[39;00m _global_backward_hooks\n\u001B[1;32m   1526\u001B[0m         \u001B[38;5;129;01mor\u001B[39;00m _global_forward_hooks \u001B[38;5;129;01mor\u001B[39;00m _global_forward_pre_hooks):\n\u001B[0;32m-> 1527\u001B[0m     \u001B[38;5;28;01mreturn\u001B[39;00m \u001B[43mforward_call\u001B[49m\u001B[43m(\u001B[49m\u001B[38;5;241;43m*\u001B[39;49m\u001B[43margs\u001B[49m\u001B[43m,\u001B[49m\u001B[43m \u001B[49m\u001B[38;5;241;43m*\u001B[39;49m\u001B[38;5;241;43m*\u001B[39;49m\u001B[43mkwargs\u001B[49m\u001B[43m)\u001B[49m\n\u001B[1;32m   1529\u001B[0m \u001B[38;5;28;01mtry\u001B[39;00m:\n\u001B[1;32m   1530\u001B[0m     result \u001B[38;5;241m=\u001B[39m \u001B[38;5;28;01mNone\u001B[39;00m\n",
      "Cell \u001B[0;32mIn[5], line 9\u001B[0m, in \u001B[0;36mLSTMModel.forward\u001B[0;34m(self, x, lengths)\u001B[0m\n\u001B[1;32m      7\u001B[0m \u001B[38;5;28;01mdef\u001B[39;00m \u001B[38;5;21mforward\u001B[39m(\u001B[38;5;28mself\u001B[39m, x, lengths):\n\u001B[1;32m      8\u001B[0m     \u001B[38;5;66;03m# Pack the padded sequences\u001B[39;00m\n\u001B[0;32m----> 9\u001B[0m     x_packed \u001B[38;5;241m=\u001B[39m \u001B[43mpack_padded_sequence\u001B[49m\u001B[43m(\u001B[49m\u001B[43mx\u001B[49m\u001B[43m,\u001B[49m\u001B[43m \u001B[49m\u001B[43mlengths\u001B[49m\u001B[43m,\u001B[49m\u001B[43m \u001B[49m\u001B[43mbatch_first\u001B[49m\u001B[38;5;241;43m=\u001B[39;49m\u001B[38;5;28;43;01mTrue\u001B[39;49;00m\u001B[43m)\u001B[49m\n\u001B[1;32m     10\u001B[0m     out_packed, _ \u001B[38;5;241m=\u001B[39m \u001B[38;5;28mself\u001B[39m\u001B[38;5;241m.\u001B[39mlstm(x_packed)\n\u001B[1;32m     11\u001B[0m     out_padded, _ \u001B[38;5;241m=\u001B[39m pad_packed_sequence(out_packed, batch_first\u001B[38;5;241m=\u001B[39m\u001B[38;5;28;01mTrue\u001B[39;00m)\n",
      "File \u001B[0;32m~/opt/anaconda3/envs/water_supply_forecast/lib/python3.11/site-packages/torch/nn/utils/rnn.py:264\u001B[0m, in \u001B[0;36mpack_padded_sequence\u001B[0;34m(input, lengths, batch_first, enforce_sorted)\u001B[0m\n\u001B[1;32m    260\u001B[0m     batch_dim \u001B[38;5;241m=\u001B[39m \u001B[38;5;241m0\u001B[39m \u001B[38;5;28;01mif\u001B[39;00m batch_first \u001B[38;5;28;01melse\u001B[39;00m \u001B[38;5;241m1\u001B[39m\n\u001B[1;32m    261\u001B[0m     \u001B[38;5;28minput\u001B[39m \u001B[38;5;241m=\u001B[39m \u001B[38;5;28minput\u001B[39m\u001B[38;5;241m.\u001B[39mindex_select(batch_dim, sorted_indices)\n\u001B[1;32m    263\u001B[0m data, batch_sizes \u001B[38;5;241m=\u001B[39m \\\n\u001B[0;32m--> 264\u001B[0m     \u001B[43m_VF\u001B[49m\u001B[38;5;241;43m.\u001B[39;49m\u001B[43m_pack_padded_sequence\u001B[49m\u001B[43m(\u001B[49m\u001B[38;5;28;43minput\u001B[39;49m\u001B[43m,\u001B[49m\u001B[43m \u001B[49m\u001B[43mlengths\u001B[49m\u001B[43m,\u001B[49m\u001B[43m \u001B[49m\u001B[43mbatch_first\u001B[49m\u001B[43m)\u001B[49m\n\u001B[1;32m    265\u001B[0m \u001B[38;5;28;01mreturn\u001B[39;00m _packed_sequence_init(data, batch_sizes, sorted_indices, \u001B[38;5;28;01mNone\u001B[39;00m)\n",
      "\u001B[0;31mRuntimeError\u001B[0m: Cannot pack empty tensors."
     ]
    }
   ],
   "source": [
    "num_epochs = 5\n",
    "for epoch in range(num_epochs):\n",
    "    for sequences, labels, lengths in dataloader:\n",
    "        optimizer.zero_grad()\n",
    "        print(sequences)\n",
    "        print(labels)\n",
    "        print(lengths)\n",
    "        outputs = model(sequences, lengths)\n",
    "        outputs = outputs.squeeze() # todo remove/change when using a multioutput\n",
    "        # Ensure labels are also squeezed to match output shape\n",
    "        loss = criterion(outputs, labels)\n",
    "        loss.backward()\n",
    "        optimizer.step()\n",
    "\n",
    "        print(loss.item())\n",
    "    print(f'Epoch [{epoch + 1}/{num_epochs}], Loss: {loss.item():.4f}')"
   ],
   "metadata": {
    "collapsed": false,
    "ExecuteTime": {
     "end_time": "2023-12-17T16:11:10.844786Z",
     "start_time": "2023-12-17T16:11:10.777127Z"
    }
   }
  },
  {
   "cell_type": "code",
   "execution_count": null,
   "outputs": [],
   "source": [],
   "metadata": {
    "collapsed": false
   }
  }
 ],
 "metadata": {
  "kernelspec": {
   "display_name": "Python 3",
   "language": "python",
   "name": "python3"
  },
  "language_info": {
   "codemirror_mode": {
    "name": "ipython",
    "version": 2
   },
   "file_extension": ".py",
   "mimetype": "text/x-python",
   "name": "python",
   "nbconvert_exporter": "python",
   "pygments_lexer": "ipython2",
   "version": "2.7.6"
  }
 },
 "nbformat": 4,
 "nbformat_minor": 0
}
