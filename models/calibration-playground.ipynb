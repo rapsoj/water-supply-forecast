{
 "cells": [
  {
   "cell_type": "markdown",
   "id": "2b481af6",
   "metadata": {},
   "source": [
    "# Calibration Playground"
   ]
  },
  {
   "cell_type": "markdown",
   "id": "15ebab57",
   "metadata": {},
   "source": [
    "### Prepare Workspace"
   ]
  },
  {
   "cell_type": "code",
   "execution_count": 4,
   "id": "6a10add7",
   "metadata": {
    "ExecuteTime": {
     "end_time": "2023-12-20T10:32:45.975175Z",
     "start_time": "2023-12-20T10:32:45.964447Z"
    }
   },
   "outputs": [],
   "source": [
    "# Import system libraries\n",
    "import os\n",
    "import sys\n",
    "import warnings\n",
    "warnings.filterwarnings(\"ignore\")\n",
    "\n",
    "# Import data manipulation librariaes\n",
    "import pandas as pd\n",
    "import numpy as np\n",
    "from consts import ORDERED_SITE_IDS\n",
    "# Import statistics libraries\n",
    "from sklearn.isotonic import IsotonicRegression\n",
    "\n",
    "# Set working directory\n",
    "#os.chdir('/Users/jessicarapson/Documents/GitHub/water-supply-forecast')\n",
    "path = os.getcwd()"
   ]
  },
  {
   "cell_type": "markdown",
   "id": "295d6250",
   "metadata": {},
   "source": [
    "### Perform Isotonic Regression"
   ]
  },
  {
   "cell_type": "code",
   "execution_count": 13,
   "id": "b7736ba8",
   "metadata": {
    "ExecuteTime": {
     "end_time": "2023-12-20T10:37:43.549784Z",
     "start_time": "2023-12-20T10:37:43.501644Z"
    }
   },
   "outputs": [
    {
     "name": "stdout",
     "output_type": "stream",
     "text": [
      "(3620, 3)\n",
      "(3620, 5)\n"
     ]
    }
   ],
   "source": [
    "# Import predictions\n",
    "final_val = pd.read_csv(os.path.join(path, '..', 'models/calibration_data/final_val.csv'))\n",
    "val_gt = pd.read_csv(os.path.join(path, '..', 'models/calibration_data/val_gt.csv'))\n",
    "print(val_gt.shape)\n",
    "print(final_val.shape)\n",
    "val_gt = val_gt.groupby(val_gt.forecast_year) \\\n",
    "        .apply(lambda x: x.sort_values(['site_id'])).reset_index(drop=True)# Assuming you have predictions for the 10th, 50th, and 90th percentiles separately\n",
    "val_gt.to_csv(os.path.join(path, '..', 'models/calibration_data/val_gt.csv'))\n",
    "quantiles = [0.1, 0.5, 0.9]\n",
    "predictions_10th = final_val['volume_10']\n",
    "predictions_50th = final_val['volume_50']\n",
    "predictions_90th = final_val['volume_90']\n",
    "ground_truth = val_gt['volume']\n",
    "\n",
    "# Fit isotonic regression separately for each quantile\n",
    "iso_reg_10th = IsotonicRegression(out_of_bounds='clip')\n",
    "iso_reg_50th = IsotonicRegression(out_of_bounds='clip')\n",
    "iso_reg_90th = IsotonicRegression(out_of_bounds='clip')\n",
    "\n",
    "iso_reg_10th.fit(predictions_10th, ground_truth)\n",
    "iso_reg_50th.fit(predictions_50th, ground_truth)\n",
    "iso_reg_90th.fit(predictions_90th, ground_truth)\n",
    "\n",
    "# Calibrate predictions for each quantile separately\n",
    "calibrated_predictions_10th = iso_reg_10th.predict(predictions_10th)\n",
    "calibrated_predictions_50th = iso_reg_50th.predict(predictions_50th)\n",
    "calibrated_predictions_90th = iso_reg_90th.predict(predictions_90th)"
   ]
  },
  {
   "cell_type": "markdown",
   "id": "3d7cb8f0",
   "metadata": {},
   "source": [
    "### Calculate Pinball Loss"
   ]
  },
  {
   "cell_type": "code",
   "execution_count": 12,
   "id": "d35402e2",
   "metadata": {
    "ExecuteTime": {
     "end_time": "2023-12-20T10:37:23.506187Z",
     "start_time": "2023-12-20T10:37:23.500169Z"
    }
   },
   "outputs": [
    {
     "name": "stdout",
     "output_type": "stream",
     "text": [
      "Average Mean Quantile Loss: 520.9317209257468\n",
      "Average Mean Quantile Loss: 401.0854969208647\n"
     ]
    }
   ],
   "source": [
    "# Define a function to compute quantile loss for a single quantile\n",
    "def quantile_loss(y_true, y_pred, q):\n",
    "    residual = y_true - y_pred\n",
    "    return np.mean(np.maximum(q * residual, (q - 1) * residual))\n",
    "\n",
    "# Calculate average mean quantile loss across quantiles of interest\n",
    "average_mean_quantile_loss = np.mean([\n",
    "    quantile_loss(ground_truth, predictions_10th, quantiles[0]),\n",
    "    quantile_loss(ground_truth, predictions_50th, quantiles[1]),\n",
    "    quantile_loss(ground_truth, predictions_90th, quantiles[2])\n",
    "])\n",
    "\n",
    "print(\"Average Mean Quantile Loss:\", average_mean_quantile_loss)\n",
    "\n",
    "# Calculate average mean quantile loss across quantiles of interest\n",
    "average_mean_quantile_loss = np.mean([\n",
    "    quantile_loss(ground_truth, calibrated_predictions_10th, quantiles[0]),\n",
    "    quantile_loss(ground_truth, calibrated_predictions_50th, quantiles[1]),\n",
    "    quantile_loss(ground_truth, calibrated_predictions_90th, quantiles[2])\n",
    "])\n",
    "\n",
    "print(\"Average Mean Quantile Loss:\", average_mean_quantile_loss)"
   ]
  },
  {
   "cell_type": "code",
   "execution_count": null,
   "id": "cfc571c7",
   "metadata": {},
   "outputs": [],
   "source": []
  }
 ],
 "metadata": {
  "kernelspec": {
   "name": "python3",
   "language": "python",
   "display_name": "Python 3 (ipykernel)"
  },
  "language_info": {
   "codemirror_mode": {
    "name": "ipython",
    "version": 3
   },
   "file_extension": ".py",
   "mimetype": "text/x-python",
   "name": "python",
   "nbconvert_exporter": "python",
   "pygments_lexer": "ipython3",
   "version": "3.11.6"
  }
 },
 "nbformat": 4,
 "nbformat_minor": 5
}
