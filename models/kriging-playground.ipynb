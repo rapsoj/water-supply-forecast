{
 "cells": [
  {
   "cell_type": "markdown",
   "id": "d8181122",
   "metadata": {},
   "source": [
    "# Kriging Playground"
   ]
  },
  {
   "cell_type": "markdown",
   "id": "240e197b",
   "metadata": {},
   "source": [
    "### Prepare Workspace"
   ]
  },
  {
   "cell_type": "code",
   "execution_count": 6,
   "id": "02e73c99",
   "metadata": {},
   "outputs": [],
   "source": [
    "# Import system libraries\n",
    "import os\n",
    "import sys\n",
    "import warnings\n",
    "warnings.filterwarnings(\"ignore\")\n",
    "\n",
    "# Import data manipulation librariaes\n",
    "import pandas as pd\n",
    "import numpy as np\n",
    "import xarray as xr\n",
    "import rioxarray\n",
    "import rasterio.mask\n",
    "\n",
    "# Import statistical libraries\n",
    "from pykrige.ok import OrdinaryKriging\n",
    "\n",
    "# Set working directory\n",
    "os.chdir('/Users/jessicarapson/Documents/GitHub/water-supply-forecast')"
   ]
  },
  {
   "cell_type": "markdown",
   "id": "9f44e398",
   "metadata": {},
   "source": [
    "### Build Kriging Model"
   ]
  },
  {
   "cell_type": "code",
   "execution_count": null,
   "id": "f86cad09",
   "metadata": {},
   "outputs": [],
   "source": [
    "# Load raster data (snow and elevation)\n",
    "snow_raster = xr.open_rasterio('path_to_snow_raster.tif')  # Replace with your snow raster path\n",
    "elevation_raster = xr.open_rasterio('path_to_elevation_raster.tif')  # Replace with your elevation raster path\n",
    "\n",
    "# Read the raster data as numpy arrays\n",
    "snow_array = snow_raster.values[0]  # Assuming single band data\n",
    "elevation_array = elevation_raster.values[0]  # Assuming single band data\n",
    "\n",
    "# Assuming you have streamflow measurements (x, y, streamflow_value) at known locations\n",
    "# Replace the following placeholders with your actual streamflow measurements\n",
    "streamflow_measurements = [\n",
    "    {'x': 123, 'y': 456, 'value': 10},\n",
    "    {'x': 234, 'y': 567, 'value': 20},\n",
    "    # Add more measurements as needed\n",
    "]\n",
    "\n",
    "# Extract coordinates and values of streamflow measurements\n",
    "measurements_coords = np.array([[m['x'], m['y']] for m in streamflow_measurements])\n",
    "measurements_values = np.array([m['value'] for m in streamflow_measurements])\n",
    "\n",
    "# Create a grid of coordinates covering the area of interest using rasterio mask\n",
    "with rasterio.open('path_to_snow_raster.tif') as src:\n",
    "    out_image, out_transform = rasterio.mask.mask(src, [src.bounds], crop=True)\n",
    "    out_meta = src.meta.copy()\n",
    "\n",
    "    x_coords = np.linspace(out_meta['transform'][2], out_meta['transform'][2] + out_meta['width'] * out_meta['transform'][0], out_meta['width'])\n",
    "    y_coords = np.linspace(out_meta['transform'][5], out_meta['transform'][5] + out_meta['height'] * out_meta['transform'][4], out_meta['height'])\n",
    "    x_mesh, y_mesh = np.meshgrid(x_coords, y_coords)\n",
    "    raster_points = np.column_stack([x_mesh.ravel(), y_mesh.ravel()])\n",
    "\n",
    "# Fit empirical variogram\n",
    "ok = OrdinaryKriging(\n",
    "    xi=measurements_coords[:, 0],\n",
    "    yi=measurements_coords[:, 1],\n",
    "    zi=measurements_values,\n",
    "    xk=raster_points[:, 0],\n",
    "    yk=raster_points[:, 1],\n",
    ")\n",
    "\n",
    "variogram_model, variogram_model_parameters = ok.execute('variogram_model')\n",
    "\n",
    "# Perform Ordinary Kriging\n",
    "kriging_result, kriging_variance = ok.execute('grid')\n",
    "\n",
    "# Get the predicted streamflow at a specific point\n",
    "desired_point = np.array([[desired_x, desired_y]])  # Replace with the desired point coordinates\n",
    "kriging_point_result, kriging_point_variance = ok.execute('points', desired_point)\n",
    "\n",
    "print(\"Predicted Streamflow at Desired Point:\", kriging_point_result)\n"
   ]
  }
 ],
 "metadata": {
  "kernelspec": {
   "display_name": "Python 3.11",
   "language": "python",
   "name": "python3.11"
  },
  "language_info": {
   "codemirror_mode": {
    "name": "ipython",
    "version": 3
   },
   "file_extension": ".py",
   "mimetype": "text/x-python",
   "name": "python",
   "nbconvert_exporter": "python",
   "pygments_lexer": "ipython3",
   "version": "3.11.6"
  }
 },
 "nbformat": 4,
 "nbformat_minor": 5
}
