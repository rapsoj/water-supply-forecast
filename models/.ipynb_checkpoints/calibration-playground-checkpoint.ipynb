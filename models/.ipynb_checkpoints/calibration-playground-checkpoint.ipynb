{
 "cells": [
  {
   "cell_type": "markdown",
   "id": "2b481af6",
   "metadata": {},
   "source": [
    "# Calibration Playground"
   ]
  },
  {
   "cell_type": "markdown",
   "id": "15ebab57",
   "metadata": {},
   "source": [
    "### Prepare Workspace"
   ]
  },
  {
   "cell_type": "code",
   "execution_count": 29,
   "id": "6a10add7",
   "metadata": {},
   "outputs": [],
   "source": [
    "# Import system libraries\n",
    "import os\n",
    "import sys\n",
    "import warnings\n",
    "warnings.filterwarnings(\"ignore\")\n",
    "\n",
    "# Import data manipulation librariaes\n",
    "import pandas as pd\n",
    "import numpy as np\n",
    "\n",
    "# Import statistics libraries\n",
    "from sklearn.isotonic import IsotonicRegression\n",
    "\n",
    "# Set working directory\n",
    "os.chdir('/Users/jessicarapson/Documents/GitHub/water-supply-forecast')"
   ]
  },
  {
   "cell_type": "markdown",
   "id": "295d6250",
   "metadata": {},
   "source": [
    "### Perform Isotonic Regression"
   ]
  },
  {
   "cell_type": "code",
   "execution_count": 39,
   "id": "b7736ba8",
   "metadata": {},
   "outputs": [],
   "source": [
    "# Import predictions\n",
    "final_val = pd.read_csv('models/calibration_data/final_val.csv')\n",
    "val_gt = pd.read_csv('models/calibration_data/val_gt.csv')\n",
    "\n",
    "# Assuming you have predictions for the 10th, 50th, and 90th percentiles separately\n",
    "quantiles = [0.1, 0.5, 0.9]\n",
    "predictions_10th = final_val['volume_10']\n",
    "predictions_50th = final_val['volume_50']\n",
    "predictions_90th = final_val['volume_90']\n",
    "ground_truth = val_gt['volume']\n",
    "\n",
    "# Fit isotonic regression separately for each quantile\n",
    "iso_reg_10th = IsotonicRegression(out_of_bounds='clip')\n",
    "iso_reg_50th = IsotonicRegression(out_of_bounds='clip')\n",
    "iso_reg_90th = IsotonicRegression(out_of_bounds='clip')\n",
    "\n",
    "iso_reg_10th.fit(predictions_10th, ground_truth)\n",
    "iso_reg_50th.fit(predictions_50th, ground_truth)\n",
    "iso_reg_90th.fit(predictions_90th, ground_truth)\n",
    "\n",
    "# Calibrate predictions for each quantile separately\n",
    "calibrated_predictions_10th = iso_reg_10th.predict(predictions_10th)\n",
    "calibrated_predictions_50th = iso_reg_50th.predict(predictions_50th)\n",
    "calibrated_predictions_90th = iso_reg_90th.predict(predictions_90th)"
   ]
  },
  {
   "cell_type": "markdown",
   "id": "3d7cb8f0",
   "metadata": {},
   "source": [
    "### Calculate Pinball Loss"
   ]
  },
  {
   "cell_type": "code",
   "execution_count": 43,
   "id": "d35402e2",
   "metadata": {},
   "outputs": [
    {
     "name": "stdout",
     "output_type": "stream",
     "text": [
      "Average Mean Quantile Loss: 479.7011988524043\n",
      "Average Mean Quantile Loss: 407.62403410480755\n"
     ]
    }
   ],
   "source": [
    "# Define a function to compute quantile loss for a single quantile\n",
    "def quantile_loss(y_true, y_pred, q):\n",
    "    residual = y_true - y_pred\n",
    "    return np.mean(np.maximum(q * residual, (q - 1) * residual))\n",
    "\n",
    "# Calculate average mean quantile loss across quantiles of interest\n",
    "average_mean_quantile_loss = np.mean([\n",
    "    quantile_loss(ground_truth, predictions_10th, quantiles[0]),\n",
    "    quantile_loss(ground_truth, predictions_50th, quantiles[1]),\n",
    "    quantile_loss(ground_truth, predictions_90th, quantiles[2])\n",
    "])\n",
    "\n",
    "print(\"Average Mean Quantile Loss:\", average_mean_quantile_loss)\n",
    "\n",
    "# Calculate average mean quantile loss across quantiles of interest\n",
    "average_mean_quantile_loss = np.mean([\n",
    "    quantile_loss(ground_truth, calibrated_predictions_10th, quantiles[0]),\n",
    "    quantile_loss(ground_truth, calibrated_predictions_50th, quantiles[1]),\n",
    "    quantile_loss(ground_truth, calibrated_predictions_90th, quantiles[2])\n",
    "])\n",
    "\n",
    "print(\"Average Mean Quantile Loss:\", average_mean_quantile_loss)"
   ]
  },
  {
   "cell_type": "code",
   "execution_count": null,
   "id": "cfc571c7",
   "metadata": {},
   "outputs": [],
   "source": []
  }
 ],
 "metadata": {
  "kernelspec": {
   "display_name": "Python 3.11",
   "language": "python",
   "name": "python3.11"
  },
  "language_info": {
   "codemirror_mode": {
    "name": "ipython",
    "version": 3
   },
   "file_extension": ".py",
   "mimetype": "text/x-python",
   "name": "python",
   "nbconvert_exporter": "python",
   "pygments_lexer": "ipython3",
   "version": "3.11.6"
  }
 },
 "nbformat": 4,
 "nbformat_minor": 5
}
