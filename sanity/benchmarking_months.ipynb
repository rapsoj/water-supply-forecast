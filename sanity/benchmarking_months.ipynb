{
 "cells": [
  {
   "cell_type": "code",
   "execution_count": 13,
   "id": "initial_id",
   "metadata": {
    "collapsed": true,
    "ExecuteTime": {
     "end_time": "2023-12-18T21:18:07.895329Z",
     "start_time": "2023-12-18T21:18:07.860951Z"
    }
   },
   "outputs": [
    {
     "data": {
      "text/plain": "                         site_id  issue_date    volume_10    volume_50  \\\n0  hungry_horse_reservoir_inflow  1987-01-01  1252.654058  1769.005686   \n1  hungry_horse_reservoir_inflow  1987-01-08  1290.109429  1776.534836   \n2  hungry_horse_reservoir_inflow  1987-01-15  1188.783001  1610.920107   \n3  hungry_horse_reservoir_inflow  1987-01-22  1101.902217  1484.628314   \n4  hungry_horse_reservoir_inflow  1987-02-01  1148.988207  1536.741736   \n\n     volume_90  \n0  2285.357276  \n1  2262.960281  \n2  2033.057176  \n3  1867.354412  \n4  1924.495228  ",
      "text/html": "<div>\n<style scoped>\n    .dataframe tbody tr th:only-of-type {\n        vertical-align: middle;\n    }\n\n    .dataframe tbody tr th {\n        vertical-align: top;\n    }\n\n    .dataframe thead th {\n        text-align: right;\n    }\n</style>\n<table border=\"1\" class=\"dataframe\">\n  <thead>\n    <tr style=\"text-align: right;\">\n      <th></th>\n      <th>site_id</th>\n      <th>issue_date</th>\n      <th>volume_10</th>\n      <th>volume_50</th>\n      <th>volume_90</th>\n    </tr>\n  </thead>\n  <tbody>\n    <tr>\n      <th>0</th>\n      <td>hungry_horse_reservoir_inflow</td>\n      <td>1987-01-01</td>\n      <td>1252.654058</td>\n      <td>1769.005686</td>\n      <td>2285.357276</td>\n    </tr>\n    <tr>\n      <th>1</th>\n      <td>hungry_horse_reservoir_inflow</td>\n      <td>1987-01-08</td>\n      <td>1290.109429</td>\n      <td>1776.534836</td>\n      <td>2262.960281</td>\n    </tr>\n    <tr>\n      <th>2</th>\n      <td>hungry_horse_reservoir_inflow</td>\n      <td>1987-01-15</td>\n      <td>1188.783001</td>\n      <td>1610.920107</td>\n      <td>2033.057176</td>\n    </tr>\n    <tr>\n      <th>3</th>\n      <td>hungry_horse_reservoir_inflow</td>\n      <td>1987-01-22</td>\n      <td>1101.902217</td>\n      <td>1484.628314</td>\n      <td>1867.354412</td>\n    </tr>\n    <tr>\n      <th>4</th>\n      <td>hungry_horse_reservoir_inflow</td>\n      <td>1987-02-01</td>\n      <td>1148.988207</td>\n      <td>1536.741736</td>\n      <td>1924.495228</td>\n    </tr>\n  </tbody>\n</table>\n</div>"
     },
     "execution_count": 13,
     "metadata": {},
     "output_type": "execute_result"
    }
   ],
   "source": [
    "'''WORK IN PROGRESS: Not doing anything currently. Use benchmarking_sanity for benchmarking'''\n",
    "import os\n",
    "import pandas as pd\n",
    "from pipeline.pipeline import load_ground_truth\n",
    "from consts import N_PRED_MONTHS, N_PREDS_PER_MONTH, FIRST_FULL_GT_YEAR\n",
    "import numpy as np\n",
    "\n",
    "\n",
    "path = os.getcwd()\n",
    "final_val = pd.read_csv(os.path.join(path, '..', 'outputs', 'final_val.csv'))\n",
    "final_train = pd.read_csv(os.path.join(path, '..', 'outputs', 'final_train.csv'))\n",
    "\n",
    "final_train.head()\n",
    "\n"
   ]
  },
  {
   "cell_type": "code",
   "execution_count": 52,
   "outputs": [
    {
     "data": {
      "text/plain": "                         site_id    volume  forecast_year\n0  hungry_horse_reservoir_inflow  1658.333           1986\n0  hungry_horse_reservoir_inflow  1658.333           1986\n0  hungry_horse_reservoir_inflow  1658.333           1986\n0  hungry_horse_reservoir_inflow  1658.333           1986\n0  hungry_horse_reservoir_inflow  1658.333           1986",
      "text/html": "<div>\n<style scoped>\n    .dataframe tbody tr th:only-of-type {\n        vertical-align: middle;\n    }\n\n    .dataframe tbody tr th {\n        vertical-align: top;\n    }\n\n    .dataframe thead th {\n        text-align: right;\n    }\n</style>\n<table border=\"1\" class=\"dataframe\">\n  <thead>\n    <tr style=\"text-align: right;\">\n      <th></th>\n      <th>site_id</th>\n      <th>volume</th>\n      <th>forecast_year</th>\n    </tr>\n  </thead>\n  <tbody>\n    <tr>\n      <th>0</th>\n      <td>hungry_horse_reservoir_inflow</td>\n      <td>1658.333</td>\n      <td>1986</td>\n    </tr>\n    <tr>\n      <th>0</th>\n      <td>hungry_horse_reservoir_inflow</td>\n      <td>1658.333</td>\n      <td>1986</td>\n    </tr>\n    <tr>\n      <th>0</th>\n      <td>hungry_horse_reservoir_inflow</td>\n      <td>1658.333</td>\n      <td>1986</td>\n    </tr>\n    <tr>\n      <th>0</th>\n      <td>hungry_horse_reservoir_inflow</td>\n      <td>1658.333</td>\n      <td>1986</td>\n    </tr>\n    <tr>\n      <th>0</th>\n      <td>hungry_horse_reservoir_inflow</td>\n      <td>1658.333</td>\n      <td>1986</td>\n    </tr>\n  </tbody>\n</table>\n</div>"
     },
     "execution_count": 52,
     "metadata": {},
     "output_type": "execute_result"
    }
   ],
   "source": [
    "num_predictions = N_PREDS_PER_MONTH*N_PRED_MONTHS\n",
    "gt = load_ground_truth(num_predictions)\n",
    "num_sites = gt.site_id.nunique()\n",
    "gt.head()"
   ],
   "metadata": {
    "collapsed": false,
    "ExecuteTime": {
     "end_time": "2023-12-18T21:43:40.349943Z",
     "start_time": "2023-12-18T21:43:40.332607Z"
    }
   },
   "id": "f6121e6be0159684"
  },
  {
   "cell_type": "code",
   "execution_count": 53,
   "outputs": [
    {
     "data": {
      "text/plain": "                         site_id    volume  forecast_year\n1  hungry_horse_reservoir_inflow  1341.983           1987\n1  hungry_horse_reservoir_inflow  1341.983           1987\n1  hungry_horse_reservoir_inflow  1341.983           1987\n1  hungry_horse_reservoir_inflow  1341.983           1987\n1  hungry_horse_reservoir_inflow  1341.983           1987",
      "text/html": "<div>\n<style scoped>\n    .dataframe tbody tr th:only-of-type {\n        vertical-align: middle;\n    }\n\n    .dataframe tbody tr th {\n        vertical-align: top;\n    }\n\n    .dataframe thead th {\n        text-align: right;\n    }\n</style>\n<table border=\"1\" class=\"dataframe\">\n  <thead>\n    <tr style=\"text-align: right;\">\n      <th></th>\n      <th>site_id</th>\n      <th>volume</th>\n      <th>forecast_year</th>\n    </tr>\n  </thead>\n  <tbody>\n    <tr>\n      <th>1</th>\n      <td>hungry_horse_reservoir_inflow</td>\n      <td>1341.983</td>\n      <td>1987</td>\n    </tr>\n    <tr>\n      <th>1</th>\n      <td>hungry_horse_reservoir_inflow</td>\n      <td>1341.983</td>\n      <td>1987</td>\n    </tr>\n    <tr>\n      <th>1</th>\n      <td>hungry_horse_reservoir_inflow</td>\n      <td>1341.983</td>\n      <td>1987</td>\n    </tr>\n    <tr>\n      <th>1</th>\n      <td>hungry_horse_reservoir_inflow</td>\n      <td>1341.983</td>\n      <td>1987</td>\n    </tr>\n    <tr>\n      <th>1</th>\n      <td>hungry_horse_reservoir_inflow</td>\n      <td>1341.983</td>\n      <td>1987</td>\n    </tr>\n  </tbody>\n</table>\n</div>"
     },
     "execution_count": 53,
     "metadata": {},
     "output_type": "execute_result"
    }
   ],
   "source": [
    "val_years = range(FIRST_FULL_GT_YEAR, 2023, 8)\n",
    "gt_val = gt[gt.forecast_year.isin(val_years)]\n",
    "gt_train = gt[~gt.forecast_year.isin(val_years)]\n",
    "gt_train.head()"
   ],
   "metadata": {
    "collapsed": false,
    "ExecuteTime": {
     "end_time": "2023-12-18T21:43:41.692522Z",
     "start_time": "2023-12-18T21:43:41.632481Z"
    }
   },
   "id": "1cab0467fab16e35"
  },
  {
   "cell_type": "code",
   "execution_count": 54,
   "outputs": [
    {
     "ename": "NameError",
     "evalue": "name 'np' is not defined",
     "output_type": "error",
     "traceback": [
      "\u001B[0;31m---------------------------------------------------------------------------\u001B[0m",
      "\u001B[0;31mNameError\u001B[0m                                 Traceback (most recent call last)",
      "Cell \u001B[0;32mIn[54], line 6\u001B[0m\n\u001B[1;32m      3\u001B[0m gt_sites_months \u001B[38;5;241m=\u001B[39m pd\u001B[38;5;241m.\u001B[39mconcat([gt_months] \u001B[38;5;241m*\u001B[39m num_sites)\u001B[38;5;241m.\u001B[39mreset_index(drop\u001B[38;5;241m=\u001B[39m\u001B[38;5;28;01mTrue\u001B[39;00m)\n\u001B[1;32m      5\u001B[0m \u001B[38;5;66;03m# Get location of detroit july values\u001B[39;00m\n\u001B[0;32m----> 6\u001B[0m \u001B[43mnp\u001B[49m\u001B[38;5;241m.\u001B[39mwhere(final_val\u001B[38;5;241m.\u001B[39msite_id\u001B[38;5;241m.\u001B[39munique()\u001B[38;5;241m==\u001B[39m\u001B[38;5;124m'\u001B[39m\u001B[38;5;124mdetroit_lake_inflow\u001B[39m\u001B[38;5;124m'\u001B[39m)\n\u001B[1;32m      9\u001B[0m gt_val_months \u001B[38;5;241m=\u001B[39m pd\u001B[38;5;241m.\u001B[39mconcat([gt_months] \u001B[38;5;241m*\u001B[39m gt_val\u001B[38;5;241m.\u001B[39mforecast_year\u001B[38;5;241m.\u001B[39mnunique()\u001B[38;5;241m*\u001B[39mnum_sites)\u001B[38;5;241m.\u001B[39mreset_index(drop\u001B[38;5;241m=\u001B[39m\u001B[38;5;28;01mTrue\u001B[39;00m)\n\u001B[1;32m     10\u001B[0m gt_train_months \u001B[38;5;241m=\u001B[39m pd\u001B[38;5;241m.\u001B[39mconcat([gt_months] \u001B[38;5;241m*\u001B[39m gt_train\u001B[38;5;241m.\u001B[39mforecast_year\u001B[38;5;241m.\u001B[39mnunique()\u001B[38;5;241m*\u001B[39mnum_sites)\u001B[38;5;241m.\u001B[39mreset_index(drop\u001B[38;5;241m=\u001B[39m\u001B[38;5;28;01mTrue\u001B[39;00m)\n",
      "\u001B[0;31mNameError\u001B[0m: name 'np' is not defined"
     ]
    }
   ],
   "source": [
    "\n",
    "gt_months = pd.Series(data=range(1,8))\n",
    "gt_months = gt_months.repeat(N_PREDS_PER_MONTH)\n",
    "gt_sites_months = pd.concat([gt_months] * num_sites).reset_index(drop=True)\n",
    "\n",
    "# Get location of detroit july values\n",
    "detroit_idx = np.where(final_val.site_id.unique()=='detroit_lake_inflow')\n",
    "\n",
    "\n",
    "\n",
    "gt_val_months = pd.concat([gt_months] * gt_val.forecast_year.nunique()*num_sites).reset_index(drop=True)\n",
    "gt_train_months = pd.concat([gt_months] * gt_train.forecast_year.nunique()*num_sites).reset_index(drop=True)\n",
    "\n",
    "\n",
    "\n"
   ],
   "metadata": {
    "collapsed": false,
    "ExecuteTime": {
     "end_time": "2023-12-18T21:43:42.425408Z",
     "start_time": "2023-12-18T21:43:42.417320Z"
    }
   },
   "id": "2cc98e0a13e6eccc"
  },
  {
   "cell_type": "code",
   "execution_count": 51,
   "outputs": [
    {
     "data": {
      "text/plain": "0       1\n1       1\n2       1\n3       1\n4       2\n       ..\n3635    6\n3636    7\n3637    7\n3638    7\n3639    7\nLength: 3640, dtype: int64"
     },
     "execution_count": 51,
     "metadata": {},
     "output_type": "execute_result"
    }
   ],
   "source": [
    "final_val['month'] = gt_val_months\n",
    "final_train['month'] = gt_train_months\n",
    "gt_val_months"
   ],
   "metadata": {
    "collapsed": false,
    "ExecuteTime": {
     "end_time": "2023-12-18T21:34:05.784497Z",
     "start_time": "2023-12-18T21:34:05.775423Z"
    }
   },
   "id": "f939b2b44b0c17f3"
  },
  {
   "cell_type": "code",
   "execution_count": 38,
   "outputs": [
    {
     "data": {
      "text/plain": "                            site_id  issue_date    volume_10    volume_50  \\\n0     hungry_horse_reservoir_inflow  1986-01-01  1287.714860  1876.742913   \n1     hungry_horse_reservoir_inflow  1986-01-08  1430.618412  1943.596214   \n2     hungry_horse_reservoir_inflow  1986-01-15  1271.926120  1736.653293   \n3     hungry_horse_reservoir_inflow  1986-01-22  1247.116805  1686.069901   \n4     hungry_horse_reservoir_inflow  1986-02-01  1216.992030  1629.754942   \n...                             ...         ...          ...          ...   \n3615         owyhee_r_bl_owyhee_dam  2018-06-22    32.174837   116.265534   \n3616         owyhee_r_bl_owyhee_dam  2018-07-01    29.819214   113.271633   \n3617         owyhee_r_bl_owyhee_dam  2018-07-08    27.910433   110.846974   \n3618         owyhee_r_bl_owyhee_dam  2018-07-15    26.244412   108.692328   \n3619         owyhee_r_bl_owyhee_dam  2018-07-22    24.826149   106.811328   \n\n        volume_90  month  \n0     2465.771041    1.0  \n1     2456.573979    1.0  \n2     2201.380428    1.0  \n3     2125.022960    1.0  \n4     2042.517817    1.0  \n...           ...    ...  \n3615   200.356231    NaN  \n3616   196.724051    NaN  \n3617   193.783516    NaN  \n3618   191.140244    NaN  \n3619   188.796506    NaN  \n\n[3620 rows x 6 columns]",
      "text/html": "<div>\n<style scoped>\n    .dataframe tbody tr th:only-of-type {\n        vertical-align: middle;\n    }\n\n    .dataframe tbody tr th {\n        vertical-align: top;\n    }\n\n    .dataframe thead th {\n        text-align: right;\n    }\n</style>\n<table border=\"1\" class=\"dataframe\">\n  <thead>\n    <tr style=\"text-align: right;\">\n      <th></th>\n      <th>site_id</th>\n      <th>issue_date</th>\n      <th>volume_10</th>\n      <th>volume_50</th>\n      <th>volume_90</th>\n      <th>month</th>\n    </tr>\n  </thead>\n  <tbody>\n    <tr>\n      <th>0</th>\n      <td>hungry_horse_reservoir_inflow</td>\n      <td>1986-01-01</td>\n      <td>1287.714860</td>\n      <td>1876.742913</td>\n      <td>2465.771041</td>\n      <td>1.0</td>\n    </tr>\n    <tr>\n      <th>1</th>\n      <td>hungry_horse_reservoir_inflow</td>\n      <td>1986-01-08</td>\n      <td>1430.618412</td>\n      <td>1943.596214</td>\n      <td>2456.573979</td>\n      <td>1.0</td>\n    </tr>\n    <tr>\n      <th>2</th>\n      <td>hungry_horse_reservoir_inflow</td>\n      <td>1986-01-15</td>\n      <td>1271.926120</td>\n      <td>1736.653293</td>\n      <td>2201.380428</td>\n      <td>1.0</td>\n    </tr>\n    <tr>\n      <th>3</th>\n      <td>hungry_horse_reservoir_inflow</td>\n      <td>1986-01-22</td>\n      <td>1247.116805</td>\n      <td>1686.069901</td>\n      <td>2125.022960</td>\n      <td>1.0</td>\n    </tr>\n    <tr>\n      <th>4</th>\n      <td>hungry_horse_reservoir_inflow</td>\n      <td>1986-02-01</td>\n      <td>1216.992030</td>\n      <td>1629.754942</td>\n      <td>2042.517817</td>\n      <td>1.0</td>\n    </tr>\n    <tr>\n      <th>...</th>\n      <td>...</td>\n      <td>...</td>\n      <td>...</td>\n      <td>...</td>\n      <td>...</td>\n      <td>...</td>\n    </tr>\n    <tr>\n      <th>3615</th>\n      <td>owyhee_r_bl_owyhee_dam</td>\n      <td>2018-06-22</td>\n      <td>32.174837</td>\n      <td>116.265534</td>\n      <td>200.356231</td>\n      <td>NaN</td>\n    </tr>\n    <tr>\n      <th>3616</th>\n      <td>owyhee_r_bl_owyhee_dam</td>\n      <td>2018-07-01</td>\n      <td>29.819214</td>\n      <td>113.271633</td>\n      <td>196.724051</td>\n      <td>NaN</td>\n    </tr>\n    <tr>\n      <th>3617</th>\n      <td>owyhee_r_bl_owyhee_dam</td>\n      <td>2018-07-08</td>\n      <td>27.910433</td>\n      <td>110.846974</td>\n      <td>193.783516</td>\n      <td>NaN</td>\n    </tr>\n    <tr>\n      <th>3618</th>\n      <td>owyhee_r_bl_owyhee_dam</td>\n      <td>2018-07-15</td>\n      <td>26.244412</td>\n      <td>108.692328</td>\n      <td>191.140244</td>\n      <td>NaN</td>\n    </tr>\n    <tr>\n      <th>3619</th>\n      <td>owyhee_r_bl_owyhee_dam</td>\n      <td>2018-07-22</td>\n      <td>24.826149</td>\n      <td>106.811328</td>\n      <td>188.796506</td>\n      <td>NaN</td>\n    </tr>\n  </tbody>\n</table>\n<p>3620 rows × 6 columns</p>\n</div>"
     },
     "execution_count": 38,
     "metadata": {},
     "output_type": "execute_result"
    }
   ],
   "source": [
    "final_val"
   ],
   "metadata": {
    "collapsed": false,
    "ExecuteTime": {
     "end_time": "2023-12-18T21:29:26.709110Z",
     "start_time": "2023-12-18T21:29:26.703453Z"
    }
   },
   "id": "a2d9c32e3b091dbc"
  },
  {
   "cell_type": "code",
   "execution_count": null,
   "outputs": [],
   "source": [],
   "metadata": {
    "collapsed": false
   },
   "id": "5347ce41b945d35e"
  }
 ],
 "metadata": {
  "kernelspec": {
   "display_name": "Python 3",
   "language": "python",
   "name": "python3"
  },
  "language_info": {
   "codemirror_mode": {
    "name": "ipython",
    "version": 2
   },
   "file_extension": ".py",
   "mimetype": "text/x-python",
   "name": "python",
   "nbconvert_exporter": "python",
   "pygments_lexer": "ipython2",
   "version": "2.7.6"
  }
 },
 "nbformat": 4,
 "nbformat_minor": 5
}
