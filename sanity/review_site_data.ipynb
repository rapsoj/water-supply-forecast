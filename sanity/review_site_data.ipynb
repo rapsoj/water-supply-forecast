{
 "cells": [
  {
   "cell_type": "markdown",
   "source": [
    "Imports:"
   ],
   "metadata": {
    "collapsed": false
   }
  },
  {
   "cell_type": "code",
   "execution_count": 16,
   "outputs": [],
   "source": [
    "import os.path\n",
    "\n",
    "import pandas as pd\n",
    "from matplotlib import pyplot as plt"
   ],
   "metadata": {
    "collapsed": false
   }
  },
  {
   "cell_type": "markdown",
   "source": [
    "Loading:"
   ],
   "metadata": {
    "collapsed": false
   }
  },
  {
   "cell_type": "code",
   "execution_count": 3,
   "outputs": [],
   "source": [
    "all_data = pd.read_csv(os.path.join('..', 'exploration', 'ml_processed_data.csv'), index_col=0)"
   ],
   "metadata": {
    "collapsed": false
   }
  },
  {
   "cell_type": "code",
   "execution_count": 4,
   "outputs": [
    {
     "data": {
      "text/plain": "array(['american_river_folsom_lake', 'animas_r_at_durango',\n       'boise_r_nr_boise', 'boysen_reservoir_inflow',\n       'colville_r_at_kettle_falls', 'detroit_lake_inflow',\n       'dillon_reservoir_inflow', 'fontenelle_reservoir_inflow',\n       'green_r_bl_howard_a_hanson_dam', 'hungry_horse_reservoir_inflow',\n       'libby_reservoir_inflow', 'merced_river_yosemite_at_pohono_bridge',\n       'missouri_r_at_toston', 'owyhee_r_bl_owyhee_dam',\n       'pecos_r_nr_pecos', 'pueblo_reservoir_inflow',\n       'ruedi_reservoir_inflow', 'san_joaquin_river_millerton_reservoir',\n       'skagit_ross_reservoir', 'snake_r_nr_heise',\n       'stehekin_r_at_stehekin', 'sweetwater_r_nr_alcova',\n       'taylor_park_reservoir_inflow', 'virgin_r_at_virtin',\n       'weber_r_nr_oakley', 'yampa_r_nr_maybell'], dtype=object)"
     },
     "execution_count": 4,
     "metadata": {},
     "output_type": "execute_result"
    }
   ],
   "source": [
    "all_data.site_id.unique()"
   ],
   "metadata": {
    "collapsed": false
   }
  },
  {
   "cell_type": "code",
   "execution_count": 5,
   "outputs": [],
   "source": [
    "site_id = 'libby_reservoir_inflow'\n",
    "df = all_data[all_data.site_id == site_id]"
   ],
   "metadata": {
    "collapsed": false
   }
  },
  {
   "cell_type": "markdown",
   "source": [
    "Plotting/exploring:"
   ],
   "metadata": {
    "collapsed": false
   }
  },
  {
   "cell_type": "code",
   "execution_count": 10,
   "outputs": [
    {
     "data": {
      "text/plain": "site_id\nmerced_river_yosemite_at_pohono_bridge    1900\nsan_joaquin_river_millerton_reservoir     1900\nruedi_reservoir_inflow                    2380\npueblo_reservoir_inflow                   3100\nfontenelle_reservoir_inflow               3196\nlibby_reservoir_inflow                    3196\ntaylor_park_reservoir_inflow              3388\nboysen_reservoir_inflow                   3484\ndillon_reservoir_inflow                   3484\nskagit_ross_reservoir                     3628\ngreen_r_bl_howard_a_hanson_dam            4300\nowyhee_r_bl_owyhee_dam                    4540\ncolville_r_at_kettle_falls                4876\npecos_r_nr_pecos                          5020\nyampa_r_nr_maybell                        5164\nsweetwater_r_nr_alcova                    5308\nhungry_horse_reservoir_inflow             5404\nsnake_r_nr_heise                          5452\nstehekin_r_at_stehekin                    5452\nvirgin_r_at_virtin                        5500\ndetroit_lake_inflow                       5548\nweber_r_nr_oakley                         5740\nanimas_r_at_durango                       6076\nboise_r_nr_boise                          6172\nmissouri_r_at_toston                      6412\namerican_river_folsom_lake                8140\ndtype: int64"
     },
     "execution_count": 10,
     "metadata": {},
     "output_type": "execute_result"
    }
   ],
   "source": [
    "all_data.groupby('site_id').apply(len).sort_values()"
   ],
   "metadata": {
    "collapsed": false
   }
  },
  {
   "cell_type": "code",
   "execution_count": 6,
   "outputs": [
    {
     "data": {
      "text/plain": "           oniANOM          pdo  F MEAN_prec       mjo10W  ninoNINO3.4  \\\ncount  3196.000000  3196.000000  3196.000000  3196.000000  3196.000000   \nmean      0.013508    -0.073783     0.435344    -0.465117    -0.145563   \nstd       0.955918     0.955579     0.138143     1.046906     0.748303   \nmin      -2.338272    -2.517395    -0.128771    -3.735436    -2.408223   \n25%      -0.631321    -0.804914     0.447072    -1.430397    -0.368877   \n50%      -0.045304    -0.058448     0.494011    -0.609288    -0.368877   \n75%       0.590215     0.608981     0.494011     0.330534     0.255611   \nmax       3.015808     2.453192     0.647402     3.239039     2.451079   \n\n           mjo120E    ninoNINO4     POW_prec   ninoANOM.1       soi_sd  ...  \\\ncount  3196.000000  3196.000000  3196.000000  3196.000000  3196.000000  ...   \nmean      0.446739    -0.105203     0.540051     0.121795     0.003538  ...   \nstd       1.025011     0.808286     0.302747     0.729714     0.982104  ...   \nmin      -3.058341    -2.801289    -0.466918    -2.208773    -3.878106  ...   \n25%      -0.319336    -0.491300     0.373584    -0.287544    -0.557458  ...   \n50%       0.593665    -0.491300     0.670602     0.278151     0.065164  ...   \n75%       1.388860     0.516695     0.670602     0.278151     0.687785  ...   \nmax       3.450476     2.602685     1.345512     3.373464     2.866960  ...   \n\n           mjo140E  forecast_year       volume   TAVG_DAILY   PREC_DAILY  \\\ncount  3196.000000    3196.000000  3196.000000  3196.000000  3196.000000   \nmean      0.379960    1990.041302   902.953039     0.257430     0.405552   \nstd       0.958219      19.226014   792.280054     0.946516     0.743603   \nmin      -3.033638    1957.000000   113.000000    -5.734447    -0.839181   \n25%      -0.352568    1973.000000   251.430782    -0.445720    -0.312573   \n50%       0.612617    1990.000000   590.374391    -0.119507     0.348568   \n75%       1.148831    2007.000000  1384.295971     1.025357     1.055419   \nmax       3.293687    2023.000000  4062.112000     2.433460     2.044343   \n\n        WTEQ_DAILY   SNWD_DAILY   TMIN_DAILY   TMAX_DAILY         time  \ncount  3196.000000  3196.000000  3196.000000  3196.000000  3196.000000  \nmean      0.135721    -0.374902     0.441805     0.045246    -0.001944  \nstd       0.767310     0.773581     0.703498     1.169804     0.999950  \nmin      -0.749372    -1.200501    -4.451112    -5.414558    -1.678150  \n25%      -0.603823    -0.878614     0.062065    -0.952369    -0.909042  \n50%       0.090710    -0.878614     0.062065    -0.270375    -0.035486  \n75%       0.682675     0.071150     0.971135     1.038841     0.838070  \nmax       2.244643     2.211498     3.176225     4.003533     1.702130  \n\n[8 rows x 45 columns]",
      "text/html": "<div>\n<style scoped>\n    .dataframe tbody tr th:only-of-type {\n        vertical-align: middle;\n    }\n\n    .dataframe tbody tr th {\n        vertical-align: top;\n    }\n\n    .dataframe thead th {\n        text-align: right;\n    }\n</style>\n<table border=\"1\" class=\"dataframe\">\n  <thead>\n    <tr style=\"text-align: right;\">\n      <th></th>\n      <th>oniANOM</th>\n      <th>pdo</th>\n      <th>F MEAN_prec</th>\n      <th>mjo10W</th>\n      <th>ninoNINO3.4</th>\n      <th>mjo120E</th>\n      <th>ninoNINO4</th>\n      <th>POW_prec</th>\n      <th>ninoANOM.1</th>\n      <th>soi_sd</th>\n      <th>...</th>\n      <th>mjo140E</th>\n      <th>forecast_year</th>\n      <th>volume</th>\n      <th>TAVG_DAILY</th>\n      <th>PREC_DAILY</th>\n      <th>WTEQ_DAILY</th>\n      <th>SNWD_DAILY</th>\n      <th>TMIN_DAILY</th>\n      <th>TMAX_DAILY</th>\n      <th>time</th>\n    </tr>\n  </thead>\n  <tbody>\n    <tr>\n      <th>count</th>\n      <td>3196.000000</td>\n      <td>3196.000000</td>\n      <td>3196.000000</td>\n      <td>3196.000000</td>\n      <td>3196.000000</td>\n      <td>3196.000000</td>\n      <td>3196.000000</td>\n      <td>3196.000000</td>\n      <td>3196.000000</td>\n      <td>3196.000000</td>\n      <td>...</td>\n      <td>3196.000000</td>\n      <td>3196.000000</td>\n      <td>3196.000000</td>\n      <td>3196.000000</td>\n      <td>3196.000000</td>\n      <td>3196.000000</td>\n      <td>3196.000000</td>\n      <td>3196.000000</td>\n      <td>3196.000000</td>\n      <td>3196.000000</td>\n    </tr>\n    <tr>\n      <th>mean</th>\n      <td>0.013508</td>\n      <td>-0.073783</td>\n      <td>0.435344</td>\n      <td>-0.465117</td>\n      <td>-0.145563</td>\n      <td>0.446739</td>\n      <td>-0.105203</td>\n      <td>0.540051</td>\n      <td>0.121795</td>\n      <td>0.003538</td>\n      <td>...</td>\n      <td>0.379960</td>\n      <td>1990.041302</td>\n      <td>902.953039</td>\n      <td>0.257430</td>\n      <td>0.405552</td>\n      <td>0.135721</td>\n      <td>-0.374902</td>\n      <td>0.441805</td>\n      <td>0.045246</td>\n      <td>-0.001944</td>\n    </tr>\n    <tr>\n      <th>std</th>\n      <td>0.955918</td>\n      <td>0.955579</td>\n      <td>0.138143</td>\n      <td>1.046906</td>\n      <td>0.748303</td>\n      <td>1.025011</td>\n      <td>0.808286</td>\n      <td>0.302747</td>\n      <td>0.729714</td>\n      <td>0.982104</td>\n      <td>...</td>\n      <td>0.958219</td>\n      <td>19.226014</td>\n      <td>792.280054</td>\n      <td>0.946516</td>\n      <td>0.743603</td>\n      <td>0.767310</td>\n      <td>0.773581</td>\n      <td>0.703498</td>\n      <td>1.169804</td>\n      <td>0.999950</td>\n    </tr>\n    <tr>\n      <th>min</th>\n      <td>-2.338272</td>\n      <td>-2.517395</td>\n      <td>-0.128771</td>\n      <td>-3.735436</td>\n      <td>-2.408223</td>\n      <td>-3.058341</td>\n      <td>-2.801289</td>\n      <td>-0.466918</td>\n      <td>-2.208773</td>\n      <td>-3.878106</td>\n      <td>...</td>\n      <td>-3.033638</td>\n      <td>1957.000000</td>\n      <td>113.000000</td>\n      <td>-5.734447</td>\n      <td>-0.839181</td>\n      <td>-0.749372</td>\n      <td>-1.200501</td>\n      <td>-4.451112</td>\n      <td>-5.414558</td>\n      <td>-1.678150</td>\n    </tr>\n    <tr>\n      <th>25%</th>\n      <td>-0.631321</td>\n      <td>-0.804914</td>\n      <td>0.447072</td>\n      <td>-1.430397</td>\n      <td>-0.368877</td>\n      <td>-0.319336</td>\n      <td>-0.491300</td>\n      <td>0.373584</td>\n      <td>-0.287544</td>\n      <td>-0.557458</td>\n      <td>...</td>\n      <td>-0.352568</td>\n      <td>1973.000000</td>\n      <td>251.430782</td>\n      <td>-0.445720</td>\n      <td>-0.312573</td>\n      <td>-0.603823</td>\n      <td>-0.878614</td>\n      <td>0.062065</td>\n      <td>-0.952369</td>\n      <td>-0.909042</td>\n    </tr>\n    <tr>\n      <th>50%</th>\n      <td>-0.045304</td>\n      <td>-0.058448</td>\n      <td>0.494011</td>\n      <td>-0.609288</td>\n      <td>-0.368877</td>\n      <td>0.593665</td>\n      <td>-0.491300</td>\n      <td>0.670602</td>\n      <td>0.278151</td>\n      <td>0.065164</td>\n      <td>...</td>\n      <td>0.612617</td>\n      <td>1990.000000</td>\n      <td>590.374391</td>\n      <td>-0.119507</td>\n      <td>0.348568</td>\n      <td>0.090710</td>\n      <td>-0.878614</td>\n      <td>0.062065</td>\n      <td>-0.270375</td>\n      <td>-0.035486</td>\n    </tr>\n    <tr>\n      <th>75%</th>\n      <td>0.590215</td>\n      <td>0.608981</td>\n      <td>0.494011</td>\n      <td>0.330534</td>\n      <td>0.255611</td>\n      <td>1.388860</td>\n      <td>0.516695</td>\n      <td>0.670602</td>\n      <td>0.278151</td>\n      <td>0.687785</td>\n      <td>...</td>\n      <td>1.148831</td>\n      <td>2007.000000</td>\n      <td>1384.295971</td>\n      <td>1.025357</td>\n      <td>1.055419</td>\n      <td>0.682675</td>\n      <td>0.071150</td>\n      <td>0.971135</td>\n      <td>1.038841</td>\n      <td>0.838070</td>\n    </tr>\n    <tr>\n      <th>max</th>\n      <td>3.015808</td>\n      <td>2.453192</td>\n      <td>0.647402</td>\n      <td>3.239039</td>\n      <td>2.451079</td>\n      <td>3.450476</td>\n      <td>2.602685</td>\n      <td>1.345512</td>\n      <td>3.373464</td>\n      <td>2.866960</td>\n      <td>...</td>\n      <td>3.293687</td>\n      <td>2023.000000</td>\n      <td>4062.112000</td>\n      <td>2.433460</td>\n      <td>2.044343</td>\n      <td>2.244643</td>\n      <td>2.211498</td>\n      <td>3.176225</td>\n      <td>4.003533</td>\n      <td>1.702130</td>\n    </tr>\n  </tbody>\n</table>\n<p>8 rows × 45 columns</p>\n</div>"
     },
     "execution_count": 6,
     "metadata": {},
     "output_type": "execute_result"
    }
   ],
   "source": [
    "df.describe()"
   ],
   "metadata": {
    "collapsed": false
   }
  },
  {
   "cell_type": "code",
   "execution_count": 7,
   "outputs": [
    {
     "data": {
      "text/plain": "Index(['oniANOM', 'pdo', 'F MEAN_prec', 'mjo10W', 'ninoNINO3.4', 'mjo120E',\n       'ninoNINO4', 'POW_prec', 'ninoANOM.1', 'soi_sd', 'mjo100E',\n       'ninoANOM.2', 'mean_gws_inst', 'LEAD', 'ninoNINO3', 'mjo40W',\n       'C SD_prec', 'F SD_prec', 'mjo120W', 'F SD_temp', 'mjo160E', 'C S_temp',\n       'mjo70E', 'soi_anom', 'ninoANOM', 'ninoANOM.3', 'C MEAN_temp',\n       'ninoNINO1+2', 'mjo20E', 'mjo80E', 'F MEAN_temp', 'C MEAN_prec',\n       'mean_rtzsm_inst', 'pna', 'mean_sfsm_inst', 'mjo140E', 'date',\n       'forecast_year', 'site_id', 'volume', 'TAVG_DAILY', 'PREC_DAILY',\n       'WTEQ_DAILY', 'SNWD_DAILY', 'TMIN_DAILY', 'TMAX_DAILY', 'time'],\n      dtype='object')"
     },
     "execution_count": 7,
     "metadata": {},
     "output_type": "execute_result"
    }
   ],
   "source": [
    "df.columns"
   ],
   "metadata": {
    "collapsed": false
   }
  },
  {
   "cell_type": "code",
   "execution_count": 12,
   "outputs": [
    {
     "data": {
      "text/plain": "Index(['site_id', 'year', 'volume'], dtype='object')"
     },
     "execution_count": 12,
     "metadata": {},
     "output_type": "execute_result"
    }
   ],
   "source": [
    "ground_truth_df = pd.read_csv(os.path.join(\"..\", \"assets\", \"data\", \"train.csv\"))"
   ],
   "metadata": {
    "collapsed": false
   }
  },
  {
   "cell_type": "code",
   "execution_count": 14,
   "outputs": [
    {
     "data": {
      "text/plain": "'libby_reservoir_inflow'"
     },
     "execution_count": 14,
     "metadata": {},
     "output_type": "execute_result"
    }
   ],
   "source": [
    "site_id = 'libby_reservoir_inflow'"
   ],
   "metadata": {
    "collapsed": false
   }
  },
  {
   "cell_type": "code",
   "execution_count": 20,
   "outputs": [
    {
     "data": {
      "text/plain": "<Figure size 640x480 with 1 Axes>",
      "image/png": "[encoded data removed]"
     },
     "metadata": {},
     "output_type": "display_data"
    }
   ],
   "source": [
    "plt.hist(ground_truth_df[ground_truth_df.site_id == site_id].volume, bins=30);"
   ],
   "metadata": {
    "collapsed": false
   }
  }
 ],
 "metadata": {
  "kernelspec": {
   "display_name": "Python 3",
   "language": "python",
   "name": "python3"
  },
  "language_info": {
   "codemirror_mode": {
    "name": "ipython",
    "version": 2
   },
   "file_extension": ".py",
   "mimetype": "text/x-python",
   "name": "python",
   "nbconvert_exporter": "python",
   "pygments_lexer": "ipython2",
   "version": "2.7.6"
  }
 },
 "nbformat": 4,
 "nbformat_minor": 0
}
